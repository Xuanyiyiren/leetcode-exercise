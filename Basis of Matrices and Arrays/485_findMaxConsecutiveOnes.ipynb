{
 "cells": [
  {
   "cell_type": "markdown",
   "metadata": {},
   "source": [
    "# Problem: [485. 最大连续 1 的个数](https://leetcode.cn/problems/max-consecutive-ones/description/)"
   ]
  },
  {
   "cell_type": "markdown",
   "metadata": {},
   "source": [
    "## 思路\n",
    "\n",
    "用一个counter数连续1的个数，遇到1则自加1，否则归零。用另一个变量记录每次counter数到0的时候的值中最大的一个。遍历一次即可。\n",
    "\n",
    "注意数组以1结尾的时候，需要在循环外再比较一次counter，因为以1结尾没有0在后面触发了。"
   ]
  },
  {
   "cell_type": "code",
   "execution_count": 1,
   "metadata": {},
   "outputs": [],
   "source": [
    "class Solution(object):\n",
    "    def findMaxConsecutiveOnes(self, nums):\n",
    "        \"\"\"\n",
    "        :type nums: List[int]\n",
    "        :rtype: int\n",
    "        \"\"\"\n",
    "        counter=0\n",
    "        lengthof1=0\n",
    "        for i in range(len(nums)):\n",
    "            if nums[i]==1:\n",
    "                counter+=1\n",
    "            else:\n",
    "                if counter>lengthof1:\n",
    "                    lengthof1=counter\n",
    "                counter=0\n",
    "        if counter>lengthof1:\n",
    "            lengthof1=counter\n",
    "            \n",
    "        return lengthof1"
   ]
  },
  {
   "cell_type": "code",
   "execution_count": 3,
   "metadata": {},
   "outputs": [
    {
     "name": "stdout",
     "output_type": "stream",
     "text": [
      "3\n",
      "2\n"
     ]
    }
   ],
   "source": [
    "test = Solution()\n",
    "result = test.findMaxConsecutiveOnes([1,1,0,1,1,1])\n",
    "print(result)\n",
    "\n",
    "result = test.findMaxConsecutiveOnes([1,0,1,1,0,1])\n",
    "print(result)"
   ]
  }
 ],
 "metadata": {
  "kernelspec": {
   "display_name": "base",
   "language": "python",
   "name": "python3"
  },
  "language_info": {
   "codemirror_mode": {
    "name": "ipython",
    "version": 3
   },
   "file_extension": ".py",
   "mimetype": "text/x-python",
   "name": "python",
   "nbconvert_exporter": "python",
   "pygments_lexer": "ipython3",
   "version": "3.9.13"
  }
 },
 "nbformat": 4,
 "nbformat_minor": 2
}
