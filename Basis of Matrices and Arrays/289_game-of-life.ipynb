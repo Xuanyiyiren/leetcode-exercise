{
 "cells": [
  {
   "cell_type": "markdown",
   "metadata": {},
   "source": [
    "# Problem: [289. 生命游戏](https://leetcode.cn/problems/game-of-life/description/)"
   ]
  },
  {
   "cell_type": "markdown",
   "metadata": {},
   "source": [
    "## 思路\n",
    "\n",
    "这题的可能比较麻烦的是要求原地算法的同时，要求同步更新，要避免混叠造成的异步更新。\n",
    "\n",
    "我的想法是先建立一个大小相同的count矩阵，遍历一次原来的矩阵，让count矩阵记录每一个位置周围存活细胞的数量，然后根据count矩阵按要求更新。\n",
    "\n",
    "这里面的另一个麻烦的点就在于边界的处理，对于边、顶点上的这些位置要单独处理。"
   ]
  },
  {
   "cell_type": "code",
   "execution_count": 3,
   "metadata": {},
   "outputs": [],
   "source": [
    "class Solution:\n",
    "    def gameOfLife(self, board: list[list[int]]) -> None:\n",
    "        \"\"\"\n",
    "        Do not return anything, modify board in-place instead.\n",
    "        \"\"\"\n",
    "        m=len(board)\n",
    "        n=len(board[0])\n",
    "        count=[[0 for _ in range(n)] for _ in range (m)]\n",
    "        for i in range(m):\n",
    "            for j in range(n):\n",
    "                if board[i][j]==1:\n",
    "                    left=(i-1>=0)\n",
    "                    right=(i+1<m)\n",
    "                    up=(j-1>=0)\n",
    "                    down=(j+1<n)\n",
    "                    # print(i,j,left,right,up,down)\n",
    "                    if left:\n",
    "                        count[i-1][j]+=1\n",
    "                        if up:\n",
    "                            count[i-1][j-1]+=1\n",
    "                        if down:\n",
    "                            count[i-1][j+1]+=1\n",
    "                    if right:\n",
    "                        count[i+1][j]+=1\n",
    "                        if up:\n",
    "                            count[i+1][j-1]+=1\n",
    "                        if down:\n",
    "                            count[i+1][j+1]+=1\n",
    "                    if up:\n",
    "                        count[i][j-1]+=1\n",
    "                    if down:\n",
    "                        count[i][j+1]+=1\n",
    "        for i in range(m):\n",
    "            for j in range(n):\n",
    "                if board[i][j]==1:\n",
    "                    if count[i][j]<2 or count[i][j]>3:\n",
    "                        board[i][j]=0\n",
    "                if board[i][j]==0:\n",
    "                    if count[i][j]==3:\n",
    "                        board[i][j]=1\n",
    "        # return count"
   ]
  },
  {
   "cell_type": "code",
   "execution_count": 4,
   "metadata": {},
   "outputs": [
    {
     "name": "stdout",
     "output_type": "stream",
     "text": [
      "第一个测试用例为:\n",
      "[[0 1 0]\n",
      " [0 0 1]\n",
      " [1 1 1]\n",
      " [0 0 0]]\n",
      "测试结果为:\n",
      "[[0 0 0]\n",
      " [1 0 1]\n",
      " [0 1 1]\n",
      " [0 1 0]]\n",
      "\n",
      "第二个测试用例为:\n",
      "[[1 1]\n",
      " [1 0]]\n",
      "测试结果为:\n",
      "[[1 1]\n",
      " [1 1]]\n"
     ]
    }
   ],
   "source": [
    "# 明明numpy很好用为什么被leetcode排挤呢？这里为了更形象的展示矩阵，使用numpy渲染测试结果\n",
    "import numpy as np\n",
    "test = Solution()\n",
    "test1 = [[0,1,0],[0,0,1],[1,1,1],[0,0,0]]\n",
    "print('第一个测试用例为:')\n",
    "print(np.array(test1))\n",
    "test.gameOfLife(test1)\n",
    "print('测试结果为:')\n",
    "print(np.array(test1))\n",
    "\n",
    "print()\n",
    "\n",
    "test2 = [[1,1],[1,0]]\n",
    "print('第二个测试用例为:')\n",
    "print(np.array(test2))\n",
    "test.gameOfLife(test2)\n",
    "print('测试结果为:')\n",
    "print(np.array(test2))"
   ]
  }
 ],
 "metadata": {
  "kernelspec": {
   "display_name": "base",
   "language": "python",
   "name": "python3"
  },
  "language_info": {
   "codemirror_mode": {
    "name": "ipython",
    "version": 3
   },
   "file_extension": ".py",
   "mimetype": "text/x-python",
   "name": "python",
   "nbconvert_exporter": "python",
   "pygments_lexer": "ipython3",
   "version": "3.9.13"
  }
 },
 "nbformat": 4,
 "nbformat_minor": 2
}
