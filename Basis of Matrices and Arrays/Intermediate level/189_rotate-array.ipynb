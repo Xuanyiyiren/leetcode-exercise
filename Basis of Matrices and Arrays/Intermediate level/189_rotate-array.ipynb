{
 "cells": [
  {
   "cell_type": "markdown",
   "metadata": {},
   "source": [
    "# Problem: [189. 轮转数组](https://leetcode.cn/problems/rotate-array/description/)"
   ]
  },
  {
   "cell_type": "markdown",
   "metadata": {},
   "source": [
    "## 思路\n",
    "\n",
    "所谓转轮，就是把数组后面k个拿到前面去。使用python自带的数组切片功能，非常方便。\n",
    "\n",
    "注意这里要求**原地算法**，在python中一个可以将所有非原地算法转化为原地算法的方法是\n",
    "```Python []\n",
    "nums[:]=new_nums\n",
    "```"
   ]
  },
  {
   "cell_type": "code",
   "execution_count": 1,
   "metadata": {},
   "outputs": [],
   "source": [
    "class Solution(object):\n",
    "    def rotate(self, nums, k):\n",
    "        \"\"\"\n",
    "        :type nums: List[int]\n",
    "        :type k: int\n",
    "        :rtype: None Do not return anything, modify nums in-place instead.\n",
    "        \"\"\"\n",
    "        k%=len(nums)\n",
    "        nums[:]=nums[-k:]+nums[:-k]"
   ]
  },
  {
   "cell_type": "code",
   "execution_count": 2,
   "metadata": {},
   "outputs": [
    {
     "name": "stdout",
     "output_type": "stream",
     "text": [
      "[5, 6, 7, 1, 2, 3, 4]\n",
      "[3, 99, -1, -100]\n"
     ]
    }
   ],
   "source": [
    "test = Solution()\n",
    "test1 = [1,2,3,4,5,6,7]\n",
    "test.rotate(test1,3)\n",
    "print(test1)\n",
    "\n",
    "test2 = [-1,-100,3,99]\n",
    "test.rotate(test2,2)\n",
    "print(test2)"
   ]
  }
 ],
 "metadata": {
  "kernelspec": {
   "display_name": "base",
   "language": "python",
   "name": "python3"
  },
  "language_info": {
   "codemirror_mode": {
    "name": "ipython",
    "version": 3
   },
   "file_extension": ".py",
   "mimetype": "text/x-python",
   "name": "python",
   "nbconvert_exporter": "python",
   "pygments_lexer": "ipython3",
   "version": "3.9.13"
  }
 },
 "nbformat": 4,
 "nbformat_minor": 2
}
