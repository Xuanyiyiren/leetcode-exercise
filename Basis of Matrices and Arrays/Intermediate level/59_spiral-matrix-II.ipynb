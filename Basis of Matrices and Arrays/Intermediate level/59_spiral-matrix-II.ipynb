{
 "cells": [
  {
   "cell_type": "markdown",
   "metadata": {},
   "source": [
    "# Problem: [59. 螺旋矩阵 II](https://leetcode.cn/problems/spiral-matrix-ii/description/)"
   ]
  },
  {
   "cell_type": "markdown",
   "metadata": {},
   "source": [
    "## 思路：\n",
    "\n",
    "实际上是复用[这一题](https://leetcode.cn/problems/spiral-matrix/description/)的思路\n",
    "\n",
    "当遇到已经读过的位置或者范围以外的位置的时候，就旋转迭代方向。\n",
    "\n",
    "考虑利用python的虚数类型自动实现迭代模式旋转\n",
    "```python3 []\n",
    "orient*=-1j\n",
    "```"
   ]
  },
  {
   "cell_type": "code",
   "execution_count": 1,
   "metadata": {},
   "outputs": [],
   "source": [
    "class Solution:\n",
    "    def generateMatrix(self, n: int) -> list[list[int]]:\n",
    "        have_read=[[False for _ in range(n)] for _ in range (n)]\n",
    "        ans=[[0 for _ in range(n)] for _ in range (n)]\n",
    "        orient=1j\n",
    "        # print(m,n)\n",
    "        i=0\n",
    "        j=0\n",
    "        value=1\n",
    "        while(value<=n**2):\n",
    "            \n",
    "            # print(i,j)\n",
    "            # print(orient)\n",
    "            # print(value)\n",
    "            ans[i][j]=value\n",
    "            value+=1\n",
    "            have_read[i][j]=True\n",
    "            i_next=i+int(orient.real)\n",
    "            j_next=j+int(orient.imag)\n",
    "            # print(i_next,j_next)\n",
    "            # print()\n",
    "            if  not(0<=i_next<n and 0<=j_next<n) or have_read[i_next][j_next]:\n",
    "                orient*=-1j\n",
    "                i+=int(orient.real)\n",
    "                j+=int(orient.imag)\n",
    "            else:\n",
    "                i=i_next\n",
    "                j=j_next\n",
    "        return ans"
   ]
  },
  {
   "cell_type": "code",
   "execution_count": 2,
   "metadata": {},
   "outputs": [
    {
     "name": "stdout",
     "output_type": "stream",
     "text": [
      "第一个测试用例为:\n",
      "3\n",
      "测试结果为:\n",
      "[[1 2 3]\n",
      " [8 9 4]\n",
      " [7 6 5]]\n",
      "\n",
      "第二个测试用例为:\n",
      "1\n",
      "测试结果为:\n",
      "[[1]]\n"
     ]
    }
   ],
   "source": [
    "# 明明numpy很好用为什么被leetcode排挤呢？这里为了更形象的展示矩阵，使用numpy渲染测试结果\n",
    "import numpy as np\n",
    "test = Solution()\n",
    "test1 = 3\n",
    "print('第一个测试用例为:')\n",
    "print(np.array(test1))\n",
    "ans1=test.generateMatrix(test1)\n",
    "print('测试结果为:')\n",
    "print(np.array(ans1))\n",
    "\n",
    "print()\n",
    "test2 = 1\n",
    "print('第二个测试用例为:')\n",
    "print(np.array(test2))\n",
    "ans2=test.generateMatrix(test2)\n",
    "print('测试结果为:')\n",
    "print(np.array(ans2))"
   ]
  }
 ],
 "metadata": {
  "kernelspec": {
   "display_name": "base",
   "language": "python",
   "name": "python3"
  },
  "language_info": {
   "codemirror_mode": {
    "name": "ipython",
    "version": 3
   },
   "file_extension": ".py",
   "mimetype": "text/x-python",
   "name": "python",
   "nbconvert_exporter": "python",
   "pygments_lexer": "ipython3",
   "version": "3.9.13"
  }
 },
 "nbformat": 4,
 "nbformat_minor": 2
}
