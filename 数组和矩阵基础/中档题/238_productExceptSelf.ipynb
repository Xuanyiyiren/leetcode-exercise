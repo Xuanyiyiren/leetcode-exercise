{
 "cells": [
  {
   "cell_type": "markdown",
   "metadata": {},
   "source": [
    "# Problem: [238. 除自身以外数组的乘积](https://leetcode.cn/problems/product-of-array-except-self/description/)"
   ]
  },
  {
   "cell_type": "markdown",
   "metadata": {},
   "source": [
    "## 思路\n",
    "\n",
    "不让用除法，我也不想用硬乘暴力求解方法，查了一下查到了**往返累乘**这个方法\n",
    "\n",
    "就是先正向遍历数组，把数组元素前面（不包括自己）的元素累乘起来作为新数组。然后反向遍历数组，把元素后面（不包括自己）的元素累乘法起来，这样就可以了。\n",
    "\n",
    "使用numpy的话顺手一点，但是似乎会变慢很多，虽然也就用了一个```numpy.ones_like```"
   ]
  },
  {
   "cell_type": "markdown",
   "metadata": {},
   "source": [
    "### 使用numpy(竟然这么占时间？)"
   ]
  },
  {
   "cell_type": "code",
   "execution_count": 1,
   "metadata": {},
   "outputs": [],
   "source": [
    "import numpy as np\n",
    "\n",
    "class Solution(object):\n",
    "    def productExceptSelf(self, nums):\n",
    "        \"\"\"\n",
    "        :type nums: List[int]\n",
    "        :rtype: List[int]\n",
    "        \"\"\"\n",
    "        res=np.ones_like(nums,dtype=int)\n",
    "        l=len(nums)\n",
    "        proder=1\n",
    "        for i in range(l):\n",
    "            res[i]*=proder\n",
    "            proder*=nums[i]\n",
    "        proder=1\n",
    "        for i in range(l-1,-1,-1):\n",
    "            res[i]*=proder\n",
    "            proder*=nums[i]\n",
    "        return list(res)"
   ]
  },
  {
   "cell_type": "code",
   "execution_count": 2,
   "metadata": {},
   "outputs": [
    {
     "name": "stdout",
     "output_type": "stream",
     "text": [
      "[24, 12, 8, 6]\n",
      "[0, 0, 9, 0, 0]\n"
     ]
    }
   ],
   "source": [
    "test = Solution()\n",
    "test1 = [1,2,3,4]\n",
    "result1=test.productExceptSelf(test1)\n",
    "print(result1)\n",
    "\n",
    "test2 = [-1,1,0,-3,3]\n",
    "result2=test.productExceptSelf(test2)\n",
    "print(result2)"
   ]
  },
  {
   "cell_type": "markdown",
   "metadata": {},
   "source": [
    "### 不用numpy"
   ]
  },
  {
   "cell_type": "code",
   "execution_count": 3,
   "metadata": {},
   "outputs": [],
   "source": [
    "class Solution(object):\n",
    "    def productExceptSelf(self, nums):\n",
    "        \"\"\"\n",
    "        :type nums: List[int]\n",
    "        :rtype: List[int]\n",
    "        \"\"\"\n",
    "        l=len(nums)\n",
    "        res=[1]*l\n",
    "        for i in range(1,l):\n",
    "            res[i]=res[i-1]*nums[i-1]\n",
    "        proder=1\n",
    "        for i in range(l-1,-1,-1):\n",
    "            res[i]*=proder\n",
    "            proder*=nums[i]\n",
    "        return list(res)"
   ]
  },
  {
   "cell_type": "code",
   "execution_count": 4,
   "metadata": {},
   "outputs": [
    {
     "name": "stdout",
     "output_type": "stream",
     "text": [
      "[24, 12, 8, 6]\n",
      "[0, 0, 9, 0, 0]\n"
     ]
    }
   ],
   "source": [
    "test = Solution()\n",
    "test1 = [1,2,3,4]\n",
    "result1=test.productExceptSelf(test1)\n",
    "print(result1)\n",
    "\n",
    "test2 = [-1,1,0,-3,3]\n",
    "result2=test.productExceptSelf(test2)\n",
    "print(result2)"
   ]
  }
 ],
 "metadata": {
  "kernelspec": {
   "display_name": "base",
   "language": "python",
   "name": "python3"
  },
  "language_info": {
   "codemirror_mode": {
    "name": "ipython",
    "version": 3
   },
   "file_extension": ".py",
   "mimetype": "text/x-python",
   "name": "python",
   "nbconvert_exporter": "python",
   "pygments_lexer": "ipython3",
   "version": "3.9.13"
  }
 },
 "nbformat": 4,
 "nbformat_minor": 2
}
