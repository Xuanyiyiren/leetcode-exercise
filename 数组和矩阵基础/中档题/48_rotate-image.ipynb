{
 "cells": [
  {
   "cell_type": "markdown",
   "metadata": {},
   "source": [
    "# Problem: [48. 旋转图像](https://leetcode.cn/problems/rotate-image/description/)"
   ]
  },
  {
   "cell_type": "markdown",
   "metadata": {},
   "source": [
    "## 思路1\n",
    "\n",
    "这个旋转是一种置换，可以构造出角标变换关系来做\n",
    "\n",
    "简单探索了一下，发现旋转就是行反序加转置\n",
    "\n",
    "$$\n",
    "\\begin{bmatrix}\n",
    "1 & 2 & 3\\\\\n",
    "4 & 5 & 6\\\\\n",
    "7 & 8 & 9\n",
    "\\end{bmatrix}\\xrightarrow{\\text{行反序}}\\begin{bmatrix}\n",
    "7 & 8 & 9\\\\\n",
    "4 & 5 & 6\\\\\n",
    "1 & 2 & 3\n",
    "\\end{bmatrix}\\xrightarrow{\\text{转置}}\\begin{bmatrix}\n",
    "7 & 4 & 1\\\\\n",
    "8 & 5 & 2\\\\\n",
    "9 & 6 & 3\n",
    "\\end{bmatrix}\n",
    "$$\n",
    "\n",
    "所以角标变换关系就是 $(i,j)\\to (m-1-i,j) \\to (j,m-1-i)$\n",
    "\n",
    "如果遍历新矩阵，那就要写成 $(n-1-j,i)\\to (i,j)$ \n",
    "\n",
    "使用```matrix[:]=new_matrix```的方法强行变为原地算法"
   ]
  },
  {
   "cell_type": "code",
   "execution_count": 12,
   "metadata": {},
   "outputs": [],
   "source": [
    "class Solution(object):\n",
    "    def rotate(self, matrix):\n",
    "        \"\"\"\n",
    "        :type matrix: List[List[int]]\n",
    "        :rtype: None Do not return anything, modify matrix in-place instead.\n",
    "        \"\"\"\n",
    "        n=len(matrix)\n",
    "        mc=[[0 for _ in range(n)] for _ in range(n)]\n",
    "        for i in range(n):\n",
    "            for j in range(n):\n",
    "                # print(matrix[n-j-1][i])\n",
    "                mc[i][j]=matrix[n-j-1][i]\n",
    "                # print(i,j,mc[i][j])\n",
    "        # print(mc[0][0])\n",
    "        # print(mc)\n",
    "        matrix[:]=mc"
   ]
  },
  {
   "cell_type": "code",
   "execution_count": 13,
   "metadata": {},
   "outputs": [
    {
     "name": "stdout",
     "output_type": "stream",
     "text": [
      "第一个测试用例为:\n",
      "[[1 2 3]\n",
      " [4 5 6]\n",
      " [7 8 9]]\n",
      "测试结果为:\n",
      "[[7 4 1]\n",
      " [8 5 2]\n",
      " [9 6 3]]\n",
      "\n",
      "第二个测试用例为:\n",
      "[[ 5  1  9 11]\n",
      " [ 2  4  8 10]\n",
      " [13  3  6  7]\n",
      " [15 14 12 16]]\n",
      "测试结果为:\n",
      "[[15 13  2  5]\n",
      " [14  3  4  1]\n",
      " [12  6  8  9]\n",
      " [16  7 10 11]]\n"
     ]
    }
   ],
   "source": [
    "# 明明numpy很好用为什么被leetcode排挤呢？这里为了更形象的展示矩阵，使用numpy渲染测试结果\n",
    "import numpy as np\n",
    "test = Solution()\n",
    "test1 = [[1,2,3],[4,5,6],[7,8,9]]\n",
    "print('第一个测试用例为:')\n",
    "print(np.array(test1))\n",
    "test.rotate(test1)\n",
    "print('测试结果为:')\n",
    "print(np.array(test1))\n",
    "\n",
    "print()\n",
    "\n",
    "test2 = [[5,1,9,11],[2,4,8,10],[13,3,6,7],[15,14,12,16]]\n",
    "print('第二个测试用例为:')\n",
    "print(np.array(test2))\n",
    "test.rotate(test2)\n",
    "print('测试结果为:')\n",
    "print(np.array(test2))"
   ]
  },
  {
   "cell_type": "markdown",
   "metadata": {},
   "source": [
    "## 思路2\n",
    "\n",
    "查到了一个一行解决问题的代码，实际上和思路1有些联系\n",
    "$$\n",
    "\\begin{bmatrix}\n",
    "1 & 2 & 3\\\\\n",
    "4 & 5 & 6\\\\\n",
    "7 & 8 & 9\n",
    "\\end{bmatrix}\\xrightarrow{\\text{转置}}\\begin{bmatrix}\n",
    "1 & 4 & 7\\\\\n",
    "2 & 5 & 8\\\\\n",
    "3 & 6 & 9\n",
    "\\end{bmatrix}\\xrightarrow{\\text{列反序}}\\begin{bmatrix}\n",
    "7 & 4 & 1\\\\\n",
    "8 & 5 & 2\\\\\n",
    "9 & 6 & 3\n",
    "\\end{bmatrix}\n",
    "$$\n",
    "\n",
    "然后，我们有如下操作\n",
    "\n",
    "- zip(*matrix)：这个部分使用 zip 函数将矩阵进行转置，即将矩阵的行变成列，列变成行。这样可以达到矩阵转置的效果。\n",
    "- row[::-1] for row in ...：对于转置后的矩阵的每一行，使用切片 [::-1] 反转该行的元素顺序。\n",
    "- matrix[:] = ...：最终将原始矩阵的内容用反转后的矩阵内容来替换。这样就完成了矩阵的顺时针旋转。"
   ]
  },
  {
   "cell_type": "code",
   "execution_count": 14,
   "metadata": {},
   "outputs": [],
   "source": [
    "class Solution:\n",
    "    def rotate(self, matrix: list[list[int]]) -> None:\n",
    "        matrix[:] = [row[::-1] for row in zip(*matrix)]\n",
    "\n",
    "# 作者：_G_\n",
    "# 链接：https://leetcode.cn/problems/rotate-image/solutions/2489887/yuan-di-xuan-zhuan-pythonyi-xing-dai-ma-d0tez/\n",
    "# 来源：力扣（LeetCode）\n",
    "# 著作权归作者所有。商业转载请联系作者获得授权，非商业转载请注明出处。"
   ]
  },
  {
   "cell_type": "code",
   "execution_count": 15,
   "metadata": {},
   "outputs": [
    {
     "name": "stdout",
     "output_type": "stream",
     "text": [
      "第一个测试用例为:\n",
      "[[1 2 3]\n",
      " [4 5 6]\n",
      " [7 8 9]]\n",
      "测试结果为:\n",
      "[[7 4 1]\n",
      " [8 5 2]\n",
      " [9 6 3]]\n",
      "\n",
      "第二个测试用例为:\n",
      "[[ 5  1  9 11]\n",
      " [ 2  4  8 10]\n",
      " [13  3  6  7]\n",
      " [15 14 12 16]]\n",
      "测试结果为:\n",
      "[[15 13  2  5]\n",
      " [14  3  4  1]\n",
      " [12  6  8  9]\n",
      " [16  7 10 11]]\n"
     ]
    }
   ],
   "source": [
    "# 明明numpy很好用为什么被leetcode排挤呢？这里为了更形象的展示矩阵，使用numpy渲染测试结果\n",
    "# import numpy as np\n",
    "test = Solution()\n",
    "test1 = [[1,2,3],[4,5,6],[7,8,9]]\n",
    "print('第一个测试用例为:')\n",
    "print(np.array(test1))\n",
    "test.rotate(test1)\n",
    "print('测试结果为:')\n",
    "print(np.array(test1))\n",
    "\n",
    "print()\n",
    "\n",
    "test2 = [[5,1,9,11],[2,4,8,10],[13,3,6,7],[15,14,12,16]]\n",
    "print('第二个测试用例为:')\n",
    "print(np.array(test2))\n",
    "test.rotate(test2)\n",
    "print('测试结果为:')\n",
    "print(np.array(test2))"
   ]
  }
 ],
 "metadata": {
  "kernelspec": {
   "display_name": "base",
   "language": "python",
   "name": "python3"
  },
  "language_info": {
   "codemirror_mode": {
    "name": "ipython",
    "version": 3
   },
   "file_extension": ".py",
   "mimetype": "text/x-python",
   "name": "python",
   "nbconvert_exporter": "python",
   "pygments_lexer": "ipython3",
   "version": "3.9.13"
  }
 },
 "nbformat": 4,
 "nbformat_minor": 2
}
