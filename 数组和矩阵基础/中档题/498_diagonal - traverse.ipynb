{
 "cells": [
  {
   "cell_type": "markdown",
   "metadata": {},
   "source": [
    "# Problem: [498. 对角线遍历](https://leetcode.cn/problems/diagonal-traverse/description/)"
   ]
  },
  {
   "cell_type": "markdown",
   "metadata": {},
   "source": [
    "## 思路1：懒人方法\n",
    "\n",
    "首先容易想到的就是根据 $i+j$ 的奇偶性来判断是下一个是右上角还是左下角。难点在于在边界上的处理。\n",
    "\n",
    "如果只考虑左边界和上边界，那么很容易，哪边超出边界后，直接垂直拉回来就好了。即如果发现 $i<0$ ，就直接让 $i+1$ 回去，对 $j$ 同理。\n",
    "\n",
    "<div align=center><img src=\"498_diagnoal-tranverse_lazymanway.svg\" width=\"  \"></div>\n",
    "\n",
    "对于另外两个边的处理好像不那么容易，所以不处理了，那么这样我们遍历的区域总是一个左上的三角区域。这无妨，因为这样最终总是可以覆盖我们想要的区域的，我们只需要在遍历的时候如果是想要的有效区域就做事情，如果不是那就除了迭代什么都不做。\n",
    "\n",
    "<div align=center><img src=\"498_diagnoal-tranverse_lazymanwayshortcome.svg\" width=\"  \"></div>\n",
    "\n",
    "那到什么时候停止呢，当遍历到右下角的那个元素就可以停止了\n",
    "\n",
    "**这个方法最终超时了，超时的示例是一个很长的单行矩阵。**"
   ]
  },
  {
   "cell_type": "code",
   "execution_count": 13,
   "metadata": {},
   "outputs": [],
   "source": [
    "class Solution(object):\n",
    "    def findDiagonalOrder(self, mat):\n",
    "        \"\"\"\n",
    "        :type mat: List[List[int]]\n",
    "        :rtype: List[int]\n",
    "        \"\"\"\n",
    "        dialist=[]\n",
    "        m=len(mat)\n",
    "        n=len(mat[0])\n",
    "        i=0\n",
    "        j=0\n",
    "        while(i!=m-1 or j!=n-1):\n",
    "            if 0<=i<=m-1 and 0<=j<=n-1:\n",
    "                # print(i,j)\n",
    "                dialist.append(mat[i][j])\n",
    "            if((i+j)%2):\n",
    "                # print('Hlere')\n",
    "                i+=1\n",
    "                j-=1\n",
    "            else:\n",
    "                i-=1\n",
    "                j+=1\n",
    "            if i<0:\n",
    "                i+=1\n",
    "            if j<0:\n",
    "                j+=1\n",
    "        dialist.append(mat[i][j])\n",
    "        return dialist"
   ]
  },
  {
   "cell_type": "code",
   "execution_count": 14,
   "metadata": {},
   "outputs": [
    {
     "name": "stdout",
     "output_type": "stream",
     "text": [
      "第一个测试用例为:\n",
      "[[1 2 3]\n",
      " [4 5 6]\n",
      " [7 8 9]]\n",
      "测试结果为:\n",
      "[1 2 4 7 5 3 6 8 9]\n",
      "\n",
      "第二个测试用例为:\n",
      "[[1 2 3 4 5 6 7 8 9]]\n",
      "测试结果为:\n",
      "[1 2 3 4 5 6 7 8 9]\n"
     ]
    }
   ],
   "source": [
    "# 明明numpy很好用为什么被leetcode排挤呢？这里为了更形象的展示矩阵，使用numpy渲染测试结果\n",
    "import numpy as np\n",
    "test = Solution()\n",
    "test1 = [[1,2,3],[4,5,6],[7,8,9]]\n",
    "print('第一个测试用例为:')\n",
    "print(np.array(test1))\n",
    "ans1=test.findDiagonalOrder(test1)\n",
    "print('测试结果为:')\n",
    "print(np.array(ans1))\n",
    "\n",
    "print()\n",
    "test2 = [[1,2,3,4,5,6,7,8,9]]\n",
    "print('第二个测试用例为:')\n",
    "print(np.array(test2))\n",
    "ans2=test.findDiagonalOrder(test2)\n",
    "print('测试结果为:')\n",
    "print(np.array(ans2))"
   ]
  },
  {
   "cell_type": "markdown",
   "metadata": {},
   "source": [
    "## 思路2\n",
    "\n",
    "根据上一个思路，当超出左边界和上边界时，直接垂直拉回来就好了。上一个思路在一个很长很长的单行测试用例上超时了，原因也很简单，我们多余遍历了很多东西。\n",
    "\n",
    "于是必须专门处理下边界和右边界的问题，其实想一想，也很简单，如图中紫色箭头所示。\n",
    "- 当超出下边界，即 $i\\geqslant m$ 的时候，需要将 $i$ 拉回来的同时，$j$ 自加 **2**。\n",
    "- 超出有边界同理，把 $j$ 拉回来，$i$ 自加2。\n",
    "\n",
    "<div align=center><img src=\"498_diagnoal-tranverse_thefullway.svg\" width=\"  \"></div>\n"
   ]
  },
  {
   "cell_type": "code",
   "execution_count": 15,
   "metadata": {},
   "outputs": [],
   "source": [
    "class Solution(object):\n",
    "    def findDiagonalOrder(self, mat):\n",
    "        \"\"\"\n",
    "        :type mat: List[List[int]]\n",
    "        :rtype: List[int]\n",
    "        \"\"\"\n",
    "        dialist=[]\n",
    "        m=len(mat)\n",
    "        n=len(mat[0])\n",
    "        i=0\n",
    "        j=0\n",
    "        while(i!=m-1 or j!=n-1):\n",
    "            orient=bool((i+j)%2)\n",
    "            if 0<=i<=m-1 and 0<=j<=n-1:\n",
    "                # print(i,j)\n",
    "                dialist.append(mat[i][j])           \n",
    "                if orient:\n",
    "                    i+=1\n",
    "                    j-=1\n",
    "                else:\n",
    "                    i-=1\n",
    "                    j+=1\n",
    "            elif i<0 and 0<=j<=n-1:\n",
    "                i+=1\n",
    "            elif j<0 and 0<=i<=m-1:\n",
    "                j+=1\n",
    "            elif i>=m and j<=n-1:\n",
    "                i-=1\n",
    "                j+=2\n",
    "            elif j>=n and i<=m-1:\n",
    "                j-=1\n",
    "                i+=2\n",
    "            else:\n",
    "                break\n",
    "        dialist.append(mat[i][j])\n",
    "        return dialist"
   ]
  },
  {
   "cell_type": "code",
   "execution_count": 16,
   "metadata": {},
   "outputs": [
    {
     "name": "stdout",
     "output_type": "stream",
     "text": [
      "第一个测试用例为:\n",
      "[[1 2 3]\n",
      " [4 5 6]\n",
      " [7 8 9]]\n",
      "测试结果为:\n",
      "[1 2 4 7 5 3 6 8 9]\n",
      "\n",
      "第二个测试用例为:\n",
      "[[1 2 3 4 5 6 7 8 9]]\n",
      "测试结果为:\n",
      "[1 2 3 4 5 6 7 8 9]\n"
     ]
    }
   ],
   "source": [
    "# 明明numpy很好用为什么被leetcode排挤呢？这里为了更形象的展示矩阵，使用numpy渲染测试结果\n",
    "import numpy as np\n",
    "test = Solution()\n",
    "test1 = [[1,2,3],[4,5,6],[7,8,9]]\n",
    "print('第一个测试用例为:')\n",
    "print(np.array(test1))\n",
    "ans1=test.findDiagonalOrder(test1)\n",
    "print('测试结果为:')\n",
    "print(np.array(ans1))\n",
    "\n",
    "print()\n",
    "test2 = [[1,2,3,4,5,6,7,8,9]]\n",
    "print('第二个测试用例为:')\n",
    "print(np.array(test2))\n",
    "ans2=test.findDiagonalOrder(test2)\n",
    "print('测试结果为:')\n",
    "print(np.array(ans2))"
   ]
  }
 ],
 "metadata": {
  "kernelspec": {
   "display_name": "base",
   "language": "python",
   "name": "python3"
  },
  "language_info": {
   "codemirror_mode": {
    "name": "ipython",
    "version": 3
   },
   "file_extension": ".py",
   "mimetype": "text/x-python",
   "name": "python",
   "nbconvert_exporter": "python",
   "pygments_lexer": "ipython3",
   "version": "3.9.13"
  }
 },
 "nbformat": 4,
 "nbformat_minor": 2
}
