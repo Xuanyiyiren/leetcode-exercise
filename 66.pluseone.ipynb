{
 "cells": [
  {
   "cell_type": "markdown",
   "metadata": {},
   "source": [
    "> # Problem: [66. 加一](https://leetcode.cn/problems/plus-one/description/)"
   ]
  },
  {
   "cell_type": "markdown",
   "metadata": {},
   "source": [
    "# 思路1\n",
    "\n",
    "> 将数组转化为真实的整数，加一后，变为数组\n",
    "\n",
    "# 解题方法\n",
    "\n",
    "> 使用for循环转化为真实的数，自加1，然后使用while循环逐个取出个位数组成数组，最后使用.reverse()。\n",
    "\n",
    "# 复杂度\n",
    "\n",
    "时间复杂度:\n",
    "> 暂时不会算\n",
    "\n",
    "空间复杂度:\n",
    "> 暂时不会算"
   ]
  },
  {
   "cell_type": "code",
   "execution_count": 46,
   "metadata": {},
   "outputs": [],
   "source": [
    "class Solution(object):\n",
    "    def plusOne(self, digits):\n",
    "        \"\"\"\n",
    "        :type digits: List[int]\n",
    "        :rtype: List[int]\n",
    "        \"\"\"\n",
    "        num=0\n",
    "        length=len(digits)\n",
    "        for i in range(length):\n",
    "            num+=digits[i]*10**(length-i-1)\n",
    "        num+=1\n",
    "        # print(num)\n",
    "        new_digits=[]\n",
    "        i=num\n",
    "        while(i!=0):\n",
    "            # print(i)\n",
    "            new_digits.append(i%10)\n",
    "            i//=10\n",
    "        new_digits.reverse()\n",
    "        return new_digits"
   ]
  },
  {
   "cell_type": "markdown",
   "metadata": {},
   "source": [
    "# 思路2\n",
    "\n",
    "> 统计数组结尾处非9的最大下标，该下标处的值加1，该下标之后全设为0。\n",
    "\n",
    "# 解题方法\n",
    "\n",
    "> np.where找到非9的最大下标\n",
    "\n",
    "# 复杂度\n",
    "\n",
    "时间复杂度:\n",
    "> 添加时间复杂度, 示例： $O(n)$\n",
    "\n",
    "空间复杂度:\n",
    "> 添加空间复杂度, 示例： $O(n)$"
   ]
  },
  {
   "cell_type": "code",
   "execution_count": 48,
   "metadata": {},
   "outputs": [],
   "source": [
    "import numpy as np\n",
    "class Solution(object):\n",
    "    def plusOne(self, digits):\n",
    "        \"\"\"\n",
    "        :type digits: List[int]\n",
    "        :rtype: List[int]\n",
    "        \"\"\"\n",
    "        digits=np.array(digits)\n",
    "        indexs=np.where(digits<9)[0]\n",
    "        if indexs.shape[0]==0:\n",
    "            digits=np.zeros(digits.shape[0]+1,dtype=int)\n",
    "            digits[0]=1\n",
    "        else:\n",
    "            index=indexs[-1]\n",
    "            digits[index]+=1\n",
    "            digits[index+1:]=0\n",
    "        return list(digits)"
   ]
  },
  {
   "cell_type": "markdown",
   "metadata": {},
   "source": [
    "# 思路3\n",
    "\n",
    "> 统计数组结尾处非9的最大下标，该下标处的值加1，该下标之后全设为0。\n",
    "\n",
    "# 解题方法\n",
    "\n",
    "> 使用while从最后一个下标开始往回找到第一个非9的下标\n",
    "\n",
    "# 复杂度\n",
    "\n",
    "时间复杂度:\n",
    "> 添加时间复杂度, 示例： $O(n)$\n",
    "\n",
    "空间复杂度:\n",
    "> 添加空间复杂度, 示例： $O(n)$"
   ]
  },
  {
   "cell_type": "code",
   "execution_count": 62,
   "metadata": {},
   "outputs": [],
   "source": [
    "class Solution(object):\n",
    "    def plusOne(self, digits):\n",
    "        \"\"\"\n",
    "        :type digits: List[int]\n",
    "        :rtype: List[int]\n",
    "        \"\"\"\n",
    "        length=len(digits)\n",
    "        i=length-1\n",
    "        while(digits[i]==9 and i>=0):\n",
    "            i-=1\n",
    "        if i<0:\n",
    "            digits=[0]*(length+1)\n",
    "            digits[0]=1\n",
    "        else:\n",
    "            digits=digits[:i]+[digits[i]+1]+[0]*(length-i-1)\n",
    "        return list(digits)"
   ]
  },
  {
   "cell_type": "code",
   "execution_count": 63,
   "metadata": {},
   "outputs": [
    {
     "name": "stdout",
     "output_type": "stream",
     "text": [
      "[1, 2, 4]\n",
      "[1, 0]\n"
     ]
    }
   ],
   "source": [
    "# 实例化Solution类\n",
    "solution_instance = Solution()\n",
    "\n",
    "# 调用plusOne方法，传入一个列表作为参数\n",
    "result = solution_instance.plusOne([1, 2, 3])\n",
    "\n",
    "# 打印结果\n",
    "print(result)\n",
    "\n",
    "result = solution_instance.plusOne([9])\n",
    "\n",
    "# 打印结果\n",
    "print(result)"
   ]
  }
 ],
 "metadata": {
  "kernelspec": {
   "display_name": "base",
   "language": "python",
   "name": "python3"
  },
  "language_info": {
   "codemirror_mode": {
    "name": "ipython",
    "version": 3
   },
   "file_extension": ".py",
   "mimetype": "text/x-python",
   "name": "python",
   "nbconvert_exporter": "python",
   "pygments_lexer": "ipython3",
   "version": "3.9.13"
  }
 },
 "nbformat": 4,
 "nbformat_minor": 2
}
