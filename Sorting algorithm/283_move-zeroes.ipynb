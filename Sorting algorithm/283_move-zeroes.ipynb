{
 "cells": [
  {
   "cell_type": "markdown",
   "metadata": {},
   "source": [
    "# Problem: [283. 移动零](https://leetcode.cn/problems/move-zeroes/description/)"
   ]
  },
  {
   "cell_type": "markdown",
   "metadata": {},
   "source": [
    "# 思路1：\n",
    "充分利用python自带函数，先统计0的个数，然后循环相应次数，每次删除一个0然后往后增加0"
   ]
  },
  {
   "cell_type": "code",
   "execution_count": 1,
   "metadata": {},
   "outputs": [],
   "source": [
    "class Solution:\n",
    "    def moveZeroes(self,nums:list[int]) -> None:\n",
    "        number_zero=nums.count(0)\n",
    "        for _ in range(number_zero):\n",
    "            nums.remove(0)\n",
    "            nums.append(0)"
   ]
  },
  {
   "cell_type": "code",
   "execution_count": 2,
   "metadata": {},
   "outputs": [
    {
     "name": "stdout",
     "output_type": "stream",
     "text": [
      "第一个测试用例为:\n",
      "[0, 1, 0, 3, 12]\n",
      "测试结果为:\n",
      "[1, 3, 12, 0, 0]\n",
      "\n",
      "第二个测试用例为:\n",
      "[0]\n",
      "测试结果为:\n",
      "[0]\n"
     ]
    }
   ],
   "source": [
    "test = Solution()\n",
    "test1 = [0,1,0,3,12]\n",
    "print('第一个测试用例为:')\n",
    "print(test1)\n",
    "# print(test.movelastzero(test1))\n",
    "test.moveZeroes(test1)\n",
    "print('测试结果为:')\n",
    "print(test1)\n",
    "\n",
    "print()\n",
    "test2 = [0]\n",
    "print('第二个测试用例为:')\n",
    "print(test2)\n",
    "test.moveZeroes(test2)\n",
    "print('测试结果为:')\n",
    "print(test2)"
   ]
  },
  {
   "cell_type": "markdown",
   "metadata": {},
   "source": [
    "# 思路2：\n",
    "\n",
    "有点耍赖的方法，但也是真的快\n",
    "\n",
    "利用python自带的sort函数，选择key function 为bool转换"
   ]
  },
  {
   "cell_type": "code",
   "execution_count": 3,
   "metadata": {},
   "outputs": [],
   "source": [
    "class Solution:\n",
    "    def moveZeroes(self, nums: list[int]) -> None:\n",
    "        \"\"\"\n",
    "        Do not return anything, modify nums in-place instead.\n",
    "        \"\"\"\n",
    "        nums.sort(reverse=True, key=lambda x: bool(x))\n",
    "\n",
    "# 作者：代号四零九\n",
    "# 链接：https://leetcode.cn/problems/move-zeroes/solutions/2497285/yi-xing-dai-ma-qu-qiao-jie-jue-by-ghjk94-j1ak/\n",
    "# 来源：力扣（LeetCode）\n",
    "# 著作权归作者所有。商业转载请联系作者获得授权，非商业转载请注明出处。"
   ]
  },
  {
   "cell_type": "code",
   "execution_count": 4,
   "metadata": {},
   "outputs": [
    {
     "name": "stdout",
     "output_type": "stream",
     "text": [
      "第一个测试用例为:\n",
      "[0, 1, 0, 3, 12]\n",
      "测试结果为:\n",
      "[1, 3, 12, 0, 0]\n",
      "\n",
      "第二个测试用例为:\n",
      "[0]\n",
      "测试结果为:\n",
      "[0]\n"
     ]
    }
   ],
   "source": [
    "test = Solution()\n",
    "test1 = [0,1,0,3,12]\n",
    "print('第一个测试用例为:')\n",
    "print(test1)\n",
    "# print(test.movelastzero(test1))\n",
    "test.moveZeroes(test1)\n",
    "print('测试结果为:')\n",
    "print(test1)\n",
    "\n",
    "print()\n",
    "test2 = [0]\n",
    "print('第二个测试用例为:')\n",
    "print(test2)\n",
    "test.moveZeroes(test2)\n",
    "print('测试结果为:')\n",
    "print(test2)"
   ]
  },
  {
   "cell_type": "markdown",
   "metadata": {},
   "source": [
    "# 思路3：双指针\n",
    "使用双指针遍历，每一步（或者当 $i\\neq j$ 时这么做）并且将 `nums[i]` 赋值给 `nums[j]`，遇到0时，j不自增，i照常自增。\n",
    "\n",
    "当i遍历完后"
   ]
  },
  {
   "cell_type": "code",
   "execution_count": 9,
   "metadata": {},
   "outputs": [],
   "source": [
    "class Solution:\n",
    "    def moveZeroes(self, nums: list[int]) -> None:\n",
    "        j=0\n",
    "        for i in range(len(nums)):\n",
    "            if i!=j:\n",
    "                nums[j]=nums[i]\n",
    "            if nums[i]!=0:\n",
    "                j+=1\n",
    "        while(j<=i):\n",
    "            nums[j]=0\n",
    "            j+=1\n",
    "            "
   ]
  },
  {
   "cell_type": "code",
   "execution_count": 10,
   "metadata": {},
   "outputs": [
    {
     "name": "stdout",
     "output_type": "stream",
     "text": [
      "第一个测试用例为:\n",
      "[0, 1, 0, 3, 12]\n",
      "测试结果为:\n",
      "[1, 3, 12, 0, 0]\n",
      "\n",
      "第二个测试用例为:\n",
      "[0]\n",
      "测试结果为:\n",
      "[0]\n"
     ]
    }
   ],
   "source": [
    "test = Solution()\n",
    "test1 = [0,1,0,3,12]\n",
    "print('第一个测试用例为:')\n",
    "print(test1)\n",
    "# print(test.movelastzero(test1))\n",
    "test.moveZeroes(test1)\n",
    "print('测试结果为:')\n",
    "print(test1)\n",
    "\n",
    "print()\n",
    "test2 = [0]\n",
    "print('第二个测试用例为:')\n",
    "print(test2)\n",
    "test.moveZeroes(test2)\n",
    "print('测试结果为:')\n",
    "print(test2)"
   ]
  },
  {
   "cell_type": "code",
   "execution_count": 6,
   "metadata": {},
   "outputs": [
    {
     "name": "stdout",
     "output_type": "stream",
     "text": [
      "9\n"
     ]
    }
   ],
   "source": [
    "for i in range(10):\n",
    "    pass\n",
    "print(i)"
   ]
  }
 ],
 "metadata": {
  "kernelspec": {
   "display_name": "base",
   "language": "python",
   "name": "python3"
  },
  "language_info": {
   "codemirror_mode": {
    "name": "ipython",
    "version": 3
   },
   "file_extension": ".py",
   "mimetype": "text/x-python",
   "name": "python",
   "nbconvert_exporter": "python",
   "pygments_lexer": "ipython3",
   "version": "3.9.13"
  }
 },
 "nbformat": 4,
 "nbformat_minor": 2
}
