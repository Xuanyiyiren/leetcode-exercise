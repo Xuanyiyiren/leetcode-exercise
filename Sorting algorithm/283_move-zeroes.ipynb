{
 "cells": [
  {
   "cell_type": "markdown",
   "metadata": {},
   "source": [
    "# Problem: [283. 移动零](https://leetcode.cn/problems/move-zeroes/description/)"
   ]
  },
  {
   "cell_type": "markdown",
   "metadata": {},
   "source": [
    "# 思路：\n",
    "充分利用python自带函数，先统计0的个数，然后循环相应次数，每次删除一个0然后往后增加0"
   ]
  },
  {
   "cell_type": "code",
   "execution_count": 1,
   "metadata": {},
   "outputs": [],
   "source": [
    "class Solution:\n",
    "    def moveZeroes(self,nums:list[int]) -> None:\n",
    "        number_zero=nums.count(0)\n",
    "        for _ in range(number_zero):\n",
    "            nums.remove(0)\n",
    "            nums.append(0)"
   ]
  },
  {
   "cell_type": "code",
   "execution_count": 2,
   "metadata": {},
   "outputs": [
    {
     "name": "stdout",
     "output_type": "stream",
     "text": [
      "第一个测试用例为:\n",
      "[0, 1, 0, 3, 12]\n",
      "测试结果为:\n",
      "[1, 3, 12, 0, 0]\n",
      "\n",
      "第二个测试用例为:\n",
      "[0]\n",
      "测试结果为:\n",
      "[0]\n"
     ]
    }
   ],
   "source": [
    "test = Solution()\n",
    "test1 = [0,1,0,3,12]\n",
    "print('第一个测试用例为:')\n",
    "print(test1)\n",
    "# print(test.movelastzero(test1))\n",
    "test.moveZeroes(test1)\n",
    "print('测试结果为:')\n",
    "print(test1)\n",
    "\n",
    "print()\n",
    "test2 = [0]\n",
    "print('第二个测试用例为:')\n",
    "print(test2)\n",
    "test.moveZeroes(test2)\n",
    "print('测试结果为:')\n",
    "print(test2)"
   ]
  }
 ],
 "metadata": {
  "kernelspec": {
   "display_name": "base",
   "language": "python",
   "name": "python3"
  },
  "language_info": {
   "codemirror_mode": {
    "name": "ipython",
    "version": 3
   },
   "file_extension": ".py",
   "mimetype": "text/x-python",
   "name": "python",
   "nbconvert_exporter": "python",
   "pygments_lexer": "ipython3",
   "version": "3.9.13"
  }
 },
 "nbformat": 4,
 "nbformat_minor": 2
}
