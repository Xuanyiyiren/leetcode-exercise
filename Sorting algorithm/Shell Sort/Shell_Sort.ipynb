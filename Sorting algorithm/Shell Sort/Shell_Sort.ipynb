{
 "cells": [
  {
   "cell_type": "markdown",
   "metadata": {},
   "source": [
    "<div align=center><img src=\"fig/Shell_Sort.gif\" width=\"  \"></div>\n",
    "\n",
    "希尔排序比较抽象，复杂度分析更是困难，大家都是直接写Code。\n",
    "\n",
    "思路如下\n",
    "\n",
    "- 写一个带自定义步长的插入排序函数 `insertion_sort_step` \n",
    "- 写一个步长序列产生器件 `Gap_sequences_generator` ，接受数组长度，产生从大到小且末值为 $1$ 的步长序列\n",
    "- 在Shell排序的主程序中，调用 `Gap_sequences_generator` 产生步长序列，遍历步长序列，调用 `insertion_sort_step` 将整个数组按照当前步长间隔排序。"
   ]
  },
  {
   "cell_type": "code",
   "execution_count": 50,
   "metadata": {},
   "outputs": [],
   "source": [
    "import numpy as np\n",
    "\n",
    "class mysort:\n",
    "    def list_generator(self,length=10,listtype=False):\n",
    "        if listtype:\n",
    "            self.display_list=np.linspace(1,length,length,dtype=int).tolist()\n",
    "            # np.random.shuffle(self.display_list)\n",
    "        else:\n",
    "            self.display_list=np.linspace(1,length,length,dtype=int)\n",
    "        np.random.shuffle(self.display_list)\n",
    "        \n",
    "        return self.display_list\n",
    "\n",
    "    def insertionsort_step(self,nums:list[int],init:int=0,step:int=1) -> None:\n",
    "        \"\"\"\n",
    "        To sort a list by a nontrivial step. The sorted index is $[init]_{step}$. That means init-k*step would also be sorted.\n",
    "        \"\"\"\n",
    "        length=len(nums)\n",
    "        init=init%step\n",
    "        for i in range(init+step,length,step):\n",
    "            num0=nums[i]\n",
    "            for j in range(i-step,-1,-step):\n",
    "                if nums[j]>num0:\n",
    "                    nums[j+step]=nums[j]\n",
    "                else:\n",
    "                    j+=step\n",
    "                    break\n",
    "            nums[j]=num0\n",
    "    \n",
    "    def Gap_sequences_generator(self,length,method=\"Hibbard\"):\n",
    "        \"\"\"\n",
    "        To generate the gap sequences.\n",
    "        \"\"\"\n",
    "        if method==\"Hibbard\":\n",
    "            gaps=[]\n",
    "            for i in range(1,length):\n",
    "                x=2**i-1\n",
    "                if x<length:\n",
    "                    gaps.append(x)\n",
    "                else:\n",
    "                    break\n",
    "            gaps.reverse()\n",
    "        \n",
    "        return gaps        \n",
    "            \n",
    "    def Shell_sort(self,nums:list[int]):\n",
    "        length=len(nums)\n",
    "        gaps=self.Gap_sequences_generator(length)\n",
    "        for gap in gaps:\n",
    "            for init in range(gap):\n",
    "                self.insertionsort_step(nums,init,gap)\n",
    "        "
   ]
  },
  {
   "cell_type": "code",
   "execution_count": 115,
   "metadata": {},
   "outputs": [
    {
     "name": "stdout",
     "output_type": "stream",
     "text": [
      "测试样例为：\n",
      "[ 49 139 157 147  48 173  53 123  96  89  80  57 174 105 101 134  19  15\n",
      "  27  55 107 152 162  68 110  73 118  81 168 155  35 179 182 153  31 125\n",
      "  42  60 163   7 141 127  99 100 200 148 156   2 132 189  63 140  36  40\n",
      " 185 166  85  44 193  45  14 126  74  37  29 167   9  86 184  94 136 138\n",
      "  75 116  32 108 137 165 171  17  25 104 146  82  21  39 143  77  97  47\n",
      " 169  66  84 176 144   4 170 111  20 158 194  93  87  28  83 151 183 198\n",
      " 188  56 154 178  70 177 133  41 175  43  26 113  30 160  64 124 117  22\n",
      " 109  12  79  58 180 159 131  69   5  71 114 103  18   6 191 190  67  16\n",
      "  13 128  65   3  59 120 150  91 121  34 187 196  33 161 129  50  11 145\n",
      " 149 122 181 130  78 197  51 164 172 195 142  38  72  61 106   1  10  46\n",
      "  95 102  23 135 199  76  24 192  90  54 115  62 186  88 112   8 119  98\n",
      "  92  52]\n",
      "\n",
      "排序结果为：\n",
      "[  1   2   3   4   5   6   7   8   9  10  11  12  13  14  15  16  17  18\n",
      "  19  20  21  22  23  24  25  26  27  28  29  30  31  32  33  34  35  36\n",
      "  37  38  39  40  41  42  43  44  45  46  47  48  49  50  51  52  53  54\n",
      "  55  56  57  58  59  60  61  62  63  64  65  66  67  68  69  70  71  72\n",
      "  73  74  75  76  77  78  79  80  81  82  83  84  85  86  87  88  89  90\n",
      "  91  92  93  94  95  96  97  98  99 100 101 102 103 104 105 106 107 108\n",
      " 109 110 111 112 113 114 115 116 117 118 119 120 121 122 123 124 125 126\n",
      " 127 128 129 130 131 132 133 134 135 136 137 138 139 140 141 142 143 144\n",
      " 145 146 147 148 149 150 151 152 153 154 155 156 157 158 159 160 161 162\n",
      " 163 164 165 166 167 168 169 170 171 172 173 174 175 176 177 178 179 180\n",
      " 181 182 183 184 185 186 187 188 189 190 191 192 193 194 195 196 197 198\n",
      " 199 200]\n"
     ]
    }
   ],
   "source": [
    "test=mysort()\n",
    "test.list_generator(200)\n",
    "print('测试样例为：')\n",
    "print(test.display_list)\n",
    "print()\n",
    "test.Shell_sort(test.display_list)\n",
    "# test.insertionsort_step(test.display_list,0,2)\n",
    "print('排序结果为：')\n",
    "print(test.display_list)\n"
   ]
  }
 ],
 "metadata": {
  "kernelspec": {
   "display_name": "base",
   "language": "python",
   "name": "python3"
  },
  "language_info": {
   "codemirror_mode": {
    "name": "ipython",
    "version": 3
   },
   "file_extension": ".py",
   "mimetype": "text/x-python",
   "name": "python",
   "nbconvert_exporter": "python",
   "pygments_lexer": "ipython3",
   "version": "3.9.13"
  }
 },
 "nbformat": 4,
 "nbformat_minor": 2
}
