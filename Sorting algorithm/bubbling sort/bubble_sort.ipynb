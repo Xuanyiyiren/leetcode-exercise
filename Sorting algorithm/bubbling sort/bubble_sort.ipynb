{
 "cells": [
  {
   "cell_type": "markdown",
   "metadata": {},
   "source": [
    "# 冒泡算法的动图演示\n",
    "<div align=center><img src=\"fig/buble_sort.gif\" width=\"  \"></div>"
   ]
  },
  {
   "cell_type": "code",
   "execution_count": 53,
   "metadata": {},
   "outputs": [],
   "source": [
    "import numpy as np\n",
    "\n",
    "class mysort:\n",
    "    def list_generator(self,length=10,listtype=False):\n",
    "        if listtype:\n",
    "            self.display_list=np.linspace(1,length,length,dtype=int).tolist()\n",
    "            # np.random.shuffle(self.display_list)\n",
    "        else:\n",
    "            self.display_list=np.linspace(1,length,length,dtype=int)\n",
    "        np.random.shuffle(self.display_list)\n",
    "        \n",
    "        return self.display_list\n",
    "\n",
    "    def bubblesort(self,nums:list[int]) -> None:\n",
    "        length=len(nums)\n",
    "        for j in range(length,1,-1):\n",
    "            for i in range(j-1):\n",
    "                if nums[i]>nums[i+1]:\n",
    "                    nums[i],nums[i+1]=nums[i+1],nums[i]"
   ]
  },
  {
   "cell_type": "code",
   "execution_count": 133,
   "metadata": {},
   "outputs": [
    {
     "name": "stdout",
     "output_type": "stream",
     "text": [
      "测试样例为：\n",
      "[7 4 6 5 9 1 2 8 3]\n",
      "排序结果为：\n",
      "[1 2 3 4 5 6 7 8 9]\n"
     ]
    }
   ],
   "source": [
    "test=mysort()\n",
    "test.list_generator(9)\n",
    "print('测试样例为：')\n",
    "print(test.display_list)\n",
    "test.bubblesort(test.display_list)\n",
    "print('排序结果为：')\n",
    "print(test.display_list)\n"
   ]
  }
 ],
 "metadata": {
  "kernelspec": {
   "display_name": "base",
   "language": "python",
   "name": "python3"
  },
  "language_info": {
   "codemirror_mode": {
    "name": "ipython",
    "version": 3
   },
   "file_extension": ".py",
   "mimetype": "text/x-python",
   "name": "python",
   "nbconvert_exporter": "python",
   "pygments_lexer": "ipython3",
   "version": "3.9.13"
  }
 },
 "nbformat": 4,
 "nbformat_minor": 2
}
