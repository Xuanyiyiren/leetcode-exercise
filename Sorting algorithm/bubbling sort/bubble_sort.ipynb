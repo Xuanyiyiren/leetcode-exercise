{
 "cells": [
  {
   "cell_type": "markdown",
   "metadata": {},
   "source": [
    "# 冒泡算法的动图演示\n",
    "<div align=center><img src=\"fig/buble_sort.gif\" width=\"  \"></div>"
   ]
  }
 ],
 "metadata": {
  "language_info": {
   "name": "python"
  }
 },
 "nbformat": 4,
 "nbformat_minor": 2
}
