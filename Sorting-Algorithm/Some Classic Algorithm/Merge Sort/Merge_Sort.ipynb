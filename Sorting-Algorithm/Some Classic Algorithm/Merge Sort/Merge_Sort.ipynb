{
 "cells": [
  {
   "cell_type": "code",
   "execution_count": 23,
   "metadata": {},
   "outputs": [],
   "source": [
    "import numpy as np\n",
    "\n",
    "class mysort:\n",
    "    def list_generator(self,length=10,listtype=False):\n",
    "        if listtype:\n",
    "            self.display_list=np.linspace(1,length,length,dtype=int).tolist()\n",
    "            # np.random.shuffle(self.display_list)\n",
    "        else:\n",
    "            self.display_list=np.linspace(1,length,length,dtype=int)\n",
    "        np.random.shuffle(self.display_list)\n",
    "        \n",
    "        return self.display_list\n",
    "\n",
    "    def merge(self,nums1:list[int],nums2:list[int])->list[int]:\n",
    "        i=0\n",
    "        j=0\n",
    "        l1=len(nums1)\n",
    "        l2=len(nums2)\n",
    "        nums=[]\n",
    "        end=0\n",
    "        while(True):\n",
    "            if nums1[i]<nums2[j]:\n",
    "                nums.append(nums1[i])\n",
    "                i+=1\n",
    "            else:\n",
    "                nums.append(nums2[j])\n",
    "                j+=1\n",
    "            if i==l1:\n",
    "                end=1\n",
    "                break\n",
    "            if j==l2:\n",
    "                end=2\n",
    "                break\n",
    "        \n",
    "        if end==1:\n",
    "            while(j<l2):\n",
    "                nums.append(nums2[j])\n",
    "                j+=1\n",
    "        elif end==2:\n",
    "            while(i<l1):\n",
    "                nums.append(nums1[i])\n",
    "                i+=1\n",
    "        return nums\n",
    "\n",
    "    def merge_sort_notinplace(self,nums:list[int])->list[int]:\n",
    "        length=len(nums)\n",
    "        if length==1:\n",
    "            return nums\n",
    "        nums_1=self.merge_sort_notinplace(nums[:length//2])\n",
    "        nums_2=self.merge_sort_notinplace(nums[length//2:])\n",
    "        return self.merge(nums_1,nums_2)\n",
    "\n",
    "    def merge_sort(self,nums:list[int]):\n",
    "        nums[:]=self.merge_sort_notinplace(nums)"
   ]
  },
  {
   "cell_type": "code",
   "execution_count": 34,
   "metadata": {},
   "outputs": [
    {
     "name": "stdout",
     "output_type": "stream",
     "text": [
      "测试样例为：\n",
      "[100  40  65  33   9  94  82  26  89  57  39  85  79  27  21   5  54  72\n",
      "  45  46  36  60  15  95  73   1  87  48  92  34  97  55  70   7  90  42\n",
      "  49  11  93  67  62  43  38  24  13  37  56  58  50  66  44  76  29  64\n",
      "  20  17  18  68  83  96  16   8  78  25   2  22  75  98  53  84  31  28\n",
      "  88   6  51  81  12  23  30  61  63  14  74  32  99  47  59  80  91   3\n",
      "  19  77  69  52  41   4  10  86  71  35]\n",
      "\n",
      "排序结果为：\n",
      "[  1   2   3   4   5   6   7   8   9  10  11  12  13  14  15  16  17  18\n",
      "  19  20  21  22  23  24  25  26  27  28  29  30  31  32  33  34  35  36\n",
      "  37  38  39  40  41  42  43  44  45  46  47  48  49  50  51  52  53  54\n",
      "  55  56  57  58  59  60  61  62  63  64  65  66  67  68  69  70  71  72\n",
      "  73  74  75  76  77  78  79  80  81  82  83  84  85  86  87  88  89  90\n",
      "  91  92  93  94  95  96  97  98  99 100]\n"
     ]
    }
   ],
   "source": [
    "test=mysort()\n",
    "test.list_generator(100)\n",
    "print('测试样例为：')\n",
    "print(test.display_list)\n",
    "print()\n",
    "test.merge_sort(test.display_list)\n",
    "print('排序结果为：')\n",
    "print(test.display_list)\n"
   ]
  }
 ],
 "metadata": {
  "kernelspec": {
   "display_name": "base",
   "language": "python",
   "name": "python3"
  },
  "language_info": {
   "codemirror_mode": {
    "name": "ipython",
    "version": 3
   },
   "file_extension": ".py",
   "mimetype": "text/x-python",
   "name": "python",
   "nbconvert_exporter": "python",
   "pygments_lexer": "ipython3",
   "version": "3.9.13"
  }
 },
 "nbformat": 4,
 "nbformat_minor": 2
}
