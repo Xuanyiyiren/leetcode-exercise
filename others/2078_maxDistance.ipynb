{
 "cells": [
  {
   "cell_type": "markdown",
   "metadata": {},
   "source": [
    "# Problem: [2078. 两栋颜色不同且距离最远的房子](https://leetcode.cn/problems/two-furthest-houses-with-different-colors/description/)"
   ]
  },
  {
   "cell_type": "markdown",
   "metadata": {},
   "source": [
    "## 思路：\n",
    "双循环，在color不同的条件下查找最大值。"
   ]
  },
  {
   "cell_type": "code",
   "execution_count": 4,
   "metadata": {},
   "outputs": [],
   "source": [
    "class Solution:\n",
    "    def maxDistance(self, colors: list[int]) -> int:\n",
    "        dis = 0\n",
    "        n = len(colors)\n",
    "        for i in range(n):\n",
    "            for j in range(i+1,n):\n",
    "                if colors[i]!=colors[j]:\n",
    "                    if j-i>dis:\n",
    "                        dis = j-i\n",
    "        return dis\n"
   ]
  },
  {
   "cell_type": "code",
   "execution_count": 5,
   "metadata": {},
   "outputs": [
    {
     "name": "stdout",
     "output_type": "stream",
     "text": [
      "第一个测试用例为:\n",
      "[1, 1, 1, 6, 1, 1, 1]\n",
      "测试结果为:\n",
      "3\n",
      "\n",
      "第二个测试用例为:\n",
      "[1, 8, 3, 8, 3]\n",
      "测试结果为:\n",
      "4\n",
      "\n",
      "第二个测试用例为:\n",
      "[0, 1]\n",
      "测试结果为:\n",
      "1\n"
     ]
    }
   ],
   "source": [
    "# 明明numpy很好用为什么被leetcode排挤呢？这里为了更形象的展示矩阵，使用numpy渲染测试结果\n",
    "test = Solution()\n",
    "test1 = [1,1,1,6,1,1,1]\n",
    "print('第一个测试用例为:')\n",
    "print(test1)\n",
    "ans1=test.maxDistance(test1)\n",
    "print('测试结果为:')\n",
    "print(ans1)\n",
    "\n",
    "print()\n",
    "test2 = [1,8,3,8,3]\n",
    "print('第二个测试用例为:')\n",
    "print(test2)\n",
    "ans2=test.maxDistance(test2)\n",
    "print('测试结果为:')\n",
    "print(ans2)\n",
    "\n",
    "print()\n",
    "test3 = [0,1]\n",
    "print('第二个测试用例为:')\n",
    "print(test3)\n",
    "ans3=test.maxDistance(test3)\n",
    "print('测试结果为:')\n",
    "print(ans3)"
   ]
  }
 ],
 "metadata": {
  "kernelspec": {
   "display_name": "base",
   "language": "python",
   "name": "python3"
  },
  "language_info": {
   "codemirror_mode": {
    "name": "ipython",
    "version": 3
   },
   "file_extension": ".py",
   "mimetype": "text/x-python",
   "name": "python",
   "nbconvert_exporter": "python",
   "pygments_lexer": "ipython3",
   "version": "3.9.19"
  }
 },
 "nbformat": 4,
 "nbformat_minor": 2
}
