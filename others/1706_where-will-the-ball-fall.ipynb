{
 "cells": [
  {
   "cell_type": "markdown",
   "metadata": {},
   "source": [
    "# Problem: 1706. [球会落何处](https://leetcode.cn/problems/where-will-the-ball-fall/description/)"
   ]
  },
  {
   "cell_type": "code",
   "execution_count": 37,
   "metadata": {},
   "outputs": [],
   "source": [
    "class Solution:\n",
    "    UP = 0\n",
    "    LEFT = 1\n",
    "    RIGHT = 2\n",
    "    LU2RD = 1\n",
    "    RU2LD = -1\n",
    "    def findBall(self, grid: list[list[int]]) -> list[int]:\n",
    "        m = len(grid)\n",
    "        n = len(grid[0])\n",
    "        sol = [-1 for _ in range(n)]\n",
    "        for ball in range(n):\n",
    "            cellidx = (0, ball)\n",
    "            initialtype = self.UP\n",
    "            while(cellidx[0] < m):\n",
    "                cellidx, initialtype = self.nextcell(grid, cellidx, initialtype)\n",
    "                if initialtype == -1:\n",
    "                    break\n",
    "            sol[ball] = cellidx[1]\n",
    "        return sol\n",
    "\n",
    "    def nextcell(self, grid: list[list[int]], cellidx: tuple[int, int], initialtype: int) -> tuple[tuple[int, int], int]:\n",
    "        \"\"\"\n",
    "        Predict the next cell index based on the current cell index and entering direction.\n",
    "\n",
    "        Args:\n",
    "            grid (list[list[int]]): 2D list representing the grid.\n",
    "            cellidx (tuple[int, int]): Index of the current cell (row, column).\n",
    "            initialtype (str): Entering direction (self.UP, self.LEFT, self.RIGHT).\n",
    "\n",
    "        Returns:\n",
    "            tuple[tuple[int, int], int]: \n",
    "                Index of the next cell (row, column) and the next initialtype.\n",
    "                Returns ((-1, -1), -1) if stucked.\n",
    "        \"\"\"\n",
    "        celltype = grid[cellidx[0]][cellidx[1]]\n",
    "        if celltype == self.LU2RD:\n",
    "            if initialtype == self.UP:\n",
    "                nextidx = (cellidx[0], cellidx[1] + 1)\n",
    "                nextintialtype = self.LEFT\n",
    "            elif initialtype == self.LEFT:\n",
    "                nextidx = (cellidx[0] + 1, cellidx[1])\n",
    "                nextintialtype = self.UP\n",
    "            elif initialtype == self.RIGHT:\n",
    "                return (-1, -1), -1\n",
    "        elif celltype == self.RU2LD:\n",
    "            if initialtype == self.UP:\n",
    "                nextidx = (cellidx[0], cellidx[1] - 1)\n",
    "                nextintialtype = self.RIGHT\n",
    "            elif initialtype == self.RIGHT:\n",
    "                nextidx = (cellidx[0] + 1, cellidx[1])\n",
    "                nextintialtype = self.UP\n",
    "            elif initialtype == self.LEFT:\n",
    "                return (-1, -1), -1\n",
    "        if nextidx[1] < 0 or nextidx[1] >= len(grid[0]):\n",
    "            return (-1, -1), -1\n",
    "        return nextidx, nextintialtype\n"
   ]
  },
  {
   "cell_type": "code",
   "execution_count": null,
   "metadata": {},
   "outputs": [
    {
     "data": {
      "text/plain": [
       "[1, -1, -1, -1, -1]"
      ]
     },
     "execution_count": 38,
     "metadata": {},
     "output_type": "execute_result"
    }
   ],
   "source": [
    "grid = [[1,1,1,-1,-1],[1,1,1,-1,-1],[-1,-1,-1,1,1],[1,1,1,1,-1],[-1,-1,-1,-1,-1]]\n",
    "sol = Solution()\n",
    "sol.findBall(grid)"
   ]
  },
  {
   "cell_type": "markdown",
   "metadata": {},
   "source": [
    "# Test for nextcell"
   ]
  },
  {
   "cell_type": "code",
   "execution_count": 19,
   "metadata": {},
   "outputs": [],
   "source": [
    "grid = [[1,1,1,-1,-1],[1,1,1,-1,-1],[-1,-1,-1,1,1],[1,1,1,1,-1],[-1,-1,-1,-1,-1]]\n",
    "sol = Solution()"
   ]
  },
  {
   "cell_type": "code",
   "execution_count": 20,
   "metadata": {},
   "outputs": [
    {
     "data": {
      "text/plain": [
       "((0, 1), 1)"
      ]
     },
     "execution_count": 20,
     "metadata": {},
     "output_type": "execute_result"
    }
   ],
   "source": [
    "sol.nextcell(grid, (0,0), Solution.UP)"
   ]
  },
  {
   "cell_type": "code",
   "execution_count": 21,
   "metadata": {},
   "outputs": [
    {
     "data": {
      "text/plain": [
       "((1, 0), 0)"
      ]
     },
     "execution_count": 21,
     "metadata": {},
     "output_type": "execute_result"
    }
   ],
   "source": [
    "sol.nextcell(grid, (0,0), Solution.LEFT)"
   ]
  },
  {
   "cell_type": "code",
   "execution_count": 22,
   "metadata": {},
   "outputs": [
    {
     "data": {
      "text/plain": [
       "((-1, -1), -1)"
      ]
     },
     "execution_count": 22,
     "metadata": {},
     "output_type": "execute_result"
    }
   ],
   "source": [
    "sol.nextcell(grid, (0,0), Solution.RIGHT)"
   ]
  },
  {
   "cell_type": "code",
   "execution_count": 23,
   "metadata": {},
   "outputs": [
    {
     "data": {
      "text/plain": [
       "((1, 2), 2)"
      ]
     },
     "execution_count": 23,
     "metadata": {},
     "output_type": "execute_result"
    }
   ],
   "source": [
    "sol.nextcell(grid, (1,3), Solution.UP)"
   ]
  },
  {
   "cell_type": "code",
   "execution_count": 24,
   "metadata": {},
   "outputs": [
    {
     "data": {
      "text/plain": [
       "((-1, -1), -1)"
      ]
     },
     "execution_count": 24,
     "metadata": {},
     "output_type": "execute_result"
    }
   ],
   "source": [
    "sol.nextcell(grid, (1,3), Solution.LEFT)"
   ]
  },
  {
   "cell_type": "code",
   "execution_count": 25,
   "metadata": {},
   "outputs": [
    {
     "data": {
      "text/plain": [
       "((2, 3), 0)"
      ]
     },
     "execution_count": 25,
     "metadata": {},
     "output_type": "execute_result"
    }
   ],
   "source": [
    "sol.nextcell(grid, (1,3), Solution.RIGHT)"
   ]
  },
  {
   "cell_type": "code",
   "execution_count": 30,
   "metadata": {},
   "outputs": [
    {
     "data": {
      "text/plain": [
       "((-1, -1), -1)"
      ]
     },
     "execution_count": 30,
     "metadata": {},
     "output_type": "execute_result"
    }
   ],
   "source": [
    "grid = [[1,1,1,-1,-1],[1,1,1,-1,-1],[-1,-1,-1,1,1],[1,1,1,1,-1]]\n",
    "sol.nextcell(grid, (2,0), Solution.UP)"
   ]
  },
  {
   "cell_type": "code",
   "execution_count": 31,
   "metadata": {},
   "outputs": [
    {
     "data": {
      "text/plain": [
       "((-1, -1), -1)"
      ]
     },
     "execution_count": 31,
     "metadata": {},
     "output_type": "execute_result"
    }
   ],
   "source": [
    "sol.nextcell(grid, (2,0), Solution.LEFT)"
   ]
  },
  {
   "cell_type": "code",
   "execution_count": 32,
   "metadata": {},
   "outputs": [
    {
     "data": {
      "text/plain": [
       "((3, 0), 0)"
      ]
     },
     "execution_count": 32,
     "metadata": {},
     "output_type": "execute_result"
    }
   ],
   "source": [
    "sol.nextcell(grid, (2,0), Solution.RIGHT)"
   ]
  }
 ],
 "metadata": {
  "kernelspec": {
   "display_name": "mybase",
   "language": "python",
   "name": "python3"
  },
  "language_info": {
   "codemirror_mode": {
    "name": "ipython",
    "version": 3
   },
   "file_extension": ".py",
   "mimetype": "text/x-python",
   "name": "python",
   "nbconvert_exporter": "python",
   "pygments_lexer": "ipython3",
   "version": "3.13.0"
  }
 },
 "nbformat": 4,
 "nbformat_minor": 2
}
