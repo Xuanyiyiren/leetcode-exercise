{
 "cells": [
  {
   "cell_type": "markdown",
   "metadata": {},
   "source": [
    "# Problem: [39. 组合总和](https://leetcode.cn/problems/combination-sum/description/)"
   ]
  },
  {
   "cell_type": "markdown",
   "metadata": {},
   "source": [
    "### 思路\n",
    "\n",
    "考虑从长度为 `n` 的数组 `candidates` 中有重复的提取出求和为 `s` 的所有组合，此时`candidates` 是一个全为正数的无重复数组，那么这分为几种情况\n",
    "\n",
    "- Case1: 不包含 `candidates[0]`，余下数组的组合要求总和为 `s`\n",
    "- Case2：包含 `candidates[0]`，余下数组的组合要求总和为 `s-candidates[0]`\n",
    "\n",
    "仍然可以利用递归的方法来解决这道题，我们递归定义如下 `combinationSum(candidates,target)`：\n",
    "\n",
    "如果数组的长度为 `1` ，分别考虑该元素选择 0次、1次、2次......，判断是否等于 `target`，直到超过target。\n",
    "\n",
    "  \n",
    "如果数组的长度为 `n` ，则返回值也为这些情况的叠加\n",
    "- 首元选择 `0` 次，则余下部分组合成 `target`\n",
    "- 首元选择 `1` 次，则余下部分组合成 `target-candidates[0]`\n",
    "- 首元选择 `2` 次，则余下部分组合成 `target-2*candidates[0]`\n",
    "- ...\n",
    "\n",
    "\n",
    "\n",
    "例如考虑\n",
    "输入：`candidates` = `[2,3,5,7]`, `target` = `7`\n",
    "长度为4，则递归考虑如下情况\n",
    "- 首元重复0次，从 `[3,5,7]` 中提取总合为 `7` 的组合\n",
    "  - 新的首元重复0次，从 `[5,7]` 中提取总合为 `7` 的组合\n",
    "    - 新的首元重复0次，从 `[7]` 中提取总合为 `7` 的组合，即[7]\n",
    "    - 新的首元重复1次，从 `[7]` 中提取总合为 `2` 的组合，没有合适的组合\n",
    "    - 新的首元重复1次，从 `[7]` 中提取总合为 `-3` 的组合，结束本轮寻找\n",
    "  - 新的首元重复1次，从 `[5,7]` 中提取总合为 `4` 的组合\n",
    "    - 新的首元重复0次，从 `[7]` 中提取总合为 `4` 的组合，没有合适的组合\n",
    "    - 新的首元重复1次，从 `[7]` 中提取总合为 `-1` 的组合，结束本轮寻找\n",
    "  - 新的首元重复2次，从 `[5,7]` 中提取总合为 `1` 的组合\n",
    "    - 新的首元重复0次，从 `[7]` 中提取总合为 `1` 的组合，没有合适的组合\n",
    "    - 新的首元重复1次，从 `[7]` 中提取总合为 `-4` 的组合，结束本轮寻找\n",
    "  - 新的首元重复3次，从 `[5,7]` 中提取总合为 `-2` 的组合，结束本轮寻找\n",
    "- 首元重复1次，从 `[3,5,7]` 中提取总合为 `5` 的组合\n",
    "  - 新的首元重复0次，从 `[5,7]` 中提取总合为 `5` 的组合\n",
    "    - 新的首元重复0次，从 `[7]` 中提取总合为 `5` 的组合，没有合适的组合\n",
    "    - 新的首元重复1次，从 `[7]` 中提取总合为 `0` 的组合，即不选取，结果为`[2,5]`\n",
    "    - 新的首元重复2次，从 `[7]` 中提取总合为 `-5` 的组合，结束本轮寻找\n",
    "  - 新的首元重复1次，从 `[5,7]` 中提取总合为 `2` 的组合\n",
    "    - 新的首元重复0次，从 `[7]` 中提取总合为 `2` 的组合，没有合适的组合\n",
    "    - 新的首元重复1次，从 `[7]` 中提取总合为 `-3` 的组合，结束本轮寻找\n",
    "  - 新的首元重复2次，从 `[5,7]` 中提取总合为 `-1` 的组合，结束本轮寻找\n",
    "- 首元重复2次，从 `[3,5,7]` 中提取总合为 `3` 的组合\n",
    "  - 新的首元重复0次，从 `[5,7]` 中提取总合为 `3` 的组合\n",
    "    - 新的首元重复0次，从 `[7]` 中提取总合为 `3` 的组合，没有合适的组合\n",
    "    - 新的首元重复1次，从 `[7]` 中提取总合为 `-2` 的组合，结束本轮寻找\n",
    "  - 新的首元重复1次，从 `[5,7]` 中提取总合为 `0` 的组合，即不选取，结果为`[2,2,3]`\n",
    "  - 新的首元重复2次，从 `[5,7]` 中提取总合为 `-3` 的组合，结束本轮寻找\n",
    "- 首元重复3次，从 `[3,5,7]` 中提取总合为 `1` 的组合\n",
    "  - 新的首元重复0次，从 `[5,7]` 中提取总合为 `1` 的组合\n",
    "    - 新的首元重复0次，从 `[7]` 中提取总合为 `1` 的组合，没有合适的组合\n",
    "    - 新的首元重复1次，从 `[7]` 中提取总合为 `-4` 的组合，结束本轮寻找\n",
    "  - 新的首元重复1次，从 `[5,7]` 中提取总合为 `-2` 的组合，结束本轮寻找\n",
    "- 首元重复4次，从 `[3,5,7]` 中提取总合为 `-1` 的组合，结束本轮寻找\n",
    "\n",
    "最终的结果是 `[[7],[2,5],[2,2,3]`"
   ]
  },
  {
   "cell_type": "code",
   "execution_count": 1,
   "metadata": {},
   "outputs": [],
   "source": [
    "class Solution:\n",
    "    def combinationSum_repeat(self, candidates: list[int], target: int) -> list[list[int]]:\n",
    "        # print(candidates,target)\n",
    "        n = len(candidates)\n",
    "        if n == 1:\n",
    "            repeat = 0\n",
    "            while(1):\n",
    "                combine = repeat*candidates[0]\n",
    "                if combine==target:\n",
    "                    return [[candidates[0]]*repeat]\n",
    "                if combine>target:\n",
    "                    return []\n",
    "                repeat += 1\n",
    "        else:\n",
    "            candidates_remove = candidates[1:]\n",
    "            repeat = 0\n",
    "            results = []\n",
    "            while(1):\n",
    "                combine = repeat*candidates[0]\n",
    "                result = repeat*[candidates[0]]\n",
    "                results += [i+result for i in self.combinationSum_repeat(candidates_remove,target-combine)]\n",
    "                if combine>target:\n",
    "                    break\n",
    "                repeat += 1\n",
    "        return results\n"
   ]
  },
  {
   "cell_type": "code",
   "execution_count": 2,
   "metadata": {},
   "outputs": [
    {
     "data": {
      "text/plain": [
       "[[3, 3], [2, 2, 2]]"
      ]
     },
     "execution_count": 2,
     "metadata": {},
     "output_type": "execute_result"
    }
   ],
   "source": [
    "a = Solution()\n",
    "a.combinationSum_repeat([2,3,7],6)"
   ]
  },
  {
   "cell_type": "markdown",
   "metadata": {},
   "source": [
    "### 改进\n",
    "\n",
    "大体思路还是不变，之前重复操作过那个例子的肯定会发现，如果`target`非零且小于数组的最小值，那么可以提前结束递归，如果`target`是`0`，那么唯一的组合可能就是所有元素都选择0次，即`[]`。\n",
    "\n",
    "如果数组是提前排好序的，那么最小值就是首元，这可以帮助我们提前结束递归。"
   ]
  },
  {
   "cell_type": "code",
   "execution_count": 3,
   "metadata": {},
   "outputs": [],
   "source": [
    "class Solution:\n",
    "    def combinationSum(self, candidates: list[int], target: int) -> list[list[int]]:\n",
    "        candidates.sort()\n",
    "        return self._combinationSum_repeat(candidates,target)\n",
    "    \n",
    "    def _combinationSum_repeat(self, candidates: list[int], target: int) -> list[list[int]]:\n",
    "        # 这里传入的是排好序的，否则需要在递归里面反复排序\n",
    "        if target == 0:\n",
    "            return [[]]\n",
    "        elif target < candidates[0]:\n",
    "            return []\n",
    "        n = len(candidates)\n",
    "        if n == 1:\n",
    "            repeat = 1 # 单独一个元素且选择零次的情况包含在上面的target==0中\n",
    "            while(1):\n",
    "                combine = repeat*candidates[0]\n",
    "                if combine==target:\n",
    "                    return [[candidates[0]]*repeat]\n",
    "                if combine>target:\n",
    "                    return []\n",
    "                repeat += 1\n",
    "        else:\n",
    "            candidates_remove = candidates[1:]\n",
    "            repeat = 0\n",
    "            results = []\n",
    "            while(1):\n",
    "                \n",
    "                target_remove =target - repeat*candidates[0]\n",
    "                # print(target_remove)\n",
    "                result = repeat*[candidates[0]]\n",
    "                results += [i+result for i in self._combinationSum_repeat(candidates_remove,target_remove)]\n",
    "                if target_remove<0:\n",
    "                    break\n",
    "                repeat += 1\n",
    "        return results\n"
   ]
  },
  {
   "cell_type": "code",
   "execution_count": 4,
   "metadata": {},
   "outputs": [
    {
     "data": {
      "text/plain": [
       "[[3, 3], [2, 2, 2]]"
      ]
     },
     "execution_count": 4,
     "metadata": {},
     "output_type": "execute_result"
    }
   ],
   "source": [
    "a = Solution()\n",
    "a.combinationSum([2,3,7],6)"
   ]
  },
  {
   "cell_type": "markdown",
   "metadata": {},
   "source": [
    "### 不重复提取(之前把题目看错了)\n",
    "\n",
    "考虑从长度为 `n` 的数组 `candidates` 中无重复的提取出求和为 `s` 的所有组合，那么这分为两种情况\n",
    "\n",
    "- Case1: 不包含 `candidates[0]`，余下数组的组合要求总和为 `s`\n",
    "- Case2：包含 `candidates[0]`，余下数组的组合要求总和为 `s-candidates[0]`\n",
    "\n",
    "于是就可以利用递归的方法来解决这道题，我们递归定义如下 `combinationSum(candidates,target)`：\n",
    "\n",
    "如果数组的长度为 `1` ，这个元素也分为选择或不选择两种情况，\n",
    "- 若选择这个元素，需要判断它是否和 `target` 相等\n",
    "  - 若是，则 `[candidates[0]]` 是一种组合\n",
    "  - 若不是，则无法组合\n",
    "- 若不选择这个元素，则判断 `targe` 是否为0\n",
    "  - 若是，则空组`[]`也是一种组合\n",
    "  - 若不是，则无法组合\n",
    "于是返回值为 `[candidates[0]+[]]`、`[candidates[0]]`、`[[]]`、`[]`四种情况\n",
    "  \n",
    "如果数组的长度为 `n` ，则返回值为两种情况的叠加，即返回\n",
    "```\n",
    "combinationSum(candidates[1:],target)+\n",
    "    [i+[candidates[0]] for i in combinationSum(candidates[1:],target)]\n",
    "```\n",
    "\n",
    "例如考虑\n",
    "输入：`candidates` = `[2,3,5,7]`, `target` = `7`\n",
    "长度为4，则递归考虑两种情况\n",
    "- 不包含首元，从 `[3,5,7]` 中提取总合为 `7` 的组合\n",
    "  - 不包含新的首元，从 `[5,7]` 中提取总合为 `7` 的组合\n",
    "    - 不包含新的首元，从 `[7]` 中提取总合为 `7` 的组合，即`[7]`\n",
    "    - 包含新的首元，从 `[7]` 中提取总合为 `2` 的组合，没有适合的组合\n",
    "  - 包含新的首元，从 `[5,7]` 中提取总合为 `4` 的组合\n",
    "    - 不包含新的首元，从 `[7]` 中提取总合为 `4` 的组合，没有适合的组合\n",
    "    - 包含新的首元，从 `[7]` 中提取总合为 `-1` 的组合，没有适合的组合\n",
    "- 包含首元`[2]`，从 `[3,5,7]` 中提取总合为 `5` 的组合\n",
    "  - 不包含新的首元，从 `[5,7]` 中提取总合为 `5` 的组合\n",
    "    - 不包含新的首元，从 `[7]` 中提取总合为 `5` 的组合，没有适合的组合\n",
    "    - 包含新的首元，从 `[7]` 中提取总合为 `0` 的组合，即不选取，`[2]+[5]+[]=[2,5]`\n",
    "  - 包含新的首元，从 `[5,7]` 中提取总合为 `4` 的组合\n",
    "    - 不包含新的首元，从 `[7]` 中提取总合为 `4` 的组合，没有适合的组合\n",
    "    - 包含新的首元，从 `[7]` 中提取总合为 `-1` 的组合,没有适合的组合\n",
    "最终的结果就是 `[[7]]+[[2,5]]=[[7],[2,5]]`\n"
   ]
  },
  {
   "cell_type": "code",
   "execution_count": 5,
   "metadata": {},
   "outputs": [],
   "source": [
    "class Solution:\n",
    "    def combinationSum_not_repeat(self, candidates: list[int], target: int) -> list[list[int]]:\n",
    "        # print(candidates,target)\n",
    "        n = len(candidates)\n",
    "        if n == 1:\n",
    "            result = []\n",
    "            if target == 0:\n",
    "                result += [[]]\n",
    "            if candidates[0]==target:\n",
    "                result += [[candidates[0]]]\n",
    "            return result\n",
    "        else:\n",
    "            candidates_remove = candidates[1:]\n",
    "            return self.combinationSum_not_repeat(candidates_remove,target)+\\\n",
    "                [[candidates[0]]+i for i in self.combinationSum_not_repeat(candidates_remove,target-candidates[0])]\n",
    "\n"
   ]
  },
  {
   "cell_type": "code",
   "execution_count": 6,
   "metadata": {},
   "outputs": [
    {
     "data": {
      "text/plain": [
       "[[7], [2, 5]]"
      ]
     },
     "execution_count": 6,
     "metadata": {},
     "output_type": "execute_result"
    }
   ],
   "source": [
    "a = Solution()\n",
    "a.combinationSum_not_repeat([2,5,6,8,7],7)\n"
   ]
  }
 ],
 "metadata": {
  "kernelspec": {
   "display_name": "nuclei",
   "language": "python",
   "name": "python3"
  },
  "language_info": {
   "codemirror_mode": {
    "name": "ipython",
    "version": 3
   },
   "file_extension": ".py",
   "mimetype": "text/x-python",
   "name": "python",
   "nbconvert_exporter": "python",
   "pygments_lexer": "ipython3",
   "version": "3.12.2"
  }
 },
 "nbformat": 4,
 "nbformat_minor": 4
}
