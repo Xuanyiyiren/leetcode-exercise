{
 "cells": [
  {
   "cell_type": "markdown",
   "metadata": {},
   "source": [
    "# Problem: [724. 寻找数组的中心下标](https://leetcode.cn/problems/find-pivot-index/description/)"
   ]
  },
  {
   "cell_type": "markdown",
   "metadata": {},
   "source": [
    "## 思路1\n",
    "\n",
    "使用numpy的sum函数，直接遍历所有元素，两边切片求和判断是否为中心下标"
   ]
  },
  {
   "cell_type": "code",
   "execution_count": 6,
   "metadata": {},
   "outputs": [],
   "source": [
    "class Solution(object):\n",
    "    def pivotIndex(self, nums):\n",
    "        \"\"\"\n",
    "        :type nums: List[int]\n",
    "        :rtype: int\n",
    "        \"\"\"\n",
    "        for i in range(len(nums)):\n",
    "            if sum(nums[:i])==sum(nums[i+1:]):\n",
    "                return i\n",
    "        return -1"
   ]
  },
  {
   "cell_type": "code",
   "execution_count": 7,
   "metadata": {},
   "outputs": [
    {
     "name": "stdout",
     "output_type": "stream",
     "text": [
      "3\n",
      "-1\n",
      "0\n"
     ]
    }
   ],
   "source": [
    "test = Solution()\n",
    "result = test.pivotIndex([1,7,3,6,5,6])\n",
    "print(result)\n",
    "\n",
    "result = test.pivotIndex([1,2,3])\n",
    "print(result)\n",
    "\n",
    "result = test.pivotIndex([2,1,-1])\n",
    "print(result)"
   ]
  },
  {
   "cell_type": "markdown",
   "metadata": {},
   "source": [
    "## 思路2\n",
    "\n",
    "参考的别人的思路\n",
    "\n",
    "先用sum求出数组整个的和$S$\n",
    "\n",
    "遍历数组，通过累加得到当前遍历元$a_i$前面（不包括自身）的所有元素的求和 $s_{i-1}$。如果满足\n",
    "$$2s_{i-1}+a_i=S$$\n",
    "则当前元是中心元。"
   ]
  },
  {
   "cell_type": "code",
   "execution_count": 8,
   "metadata": {},
   "outputs": [],
   "source": [
    "class Solution(object):\n",
    "    def pivotIndex(self, nums):\n",
    "        \"\"\"\n",
    "        :type nums: List[int]\n",
    "        :rtype: int\n",
    "        \"\"\"\n",
    "        s=0\n",
    "        total=sum(nums)\n",
    "        for i in range(len(nums)):\n",
    "            if 2*s+nums[i]==total:\n",
    "                return i\n",
    "            s+=nums[i]\n",
    "        return -1"
   ]
  },
  {
   "cell_type": "code",
   "execution_count": 9,
   "metadata": {},
   "outputs": [
    {
     "name": "stdout",
     "output_type": "stream",
     "text": [
      "3\n",
      "-1\n",
      "0\n"
     ]
    }
   ],
   "source": [
    "test = Solution()\n",
    "result = test.pivotIndex([1,7,3,6,5,6])\n",
    "print(result)\n",
    "\n",
    "result = test.pivotIndex([1,2,3])\n",
    "print(result)\n",
    "\n",
    "result = test.pivotIndex([2,1,-1])\n",
    "print(result)"
   ]
  }
 ],
 "metadata": {
  "kernelspec": {
   "display_name": "base",
   "language": "python",
   "name": "python3"
  },
  "language_info": {
   "codemirror_mode": {
    "name": "ipython",
    "version": 3
   },
   "file_extension": ".py",
   "mimetype": "text/x-python",
   "name": "python",
   "nbconvert_exporter": "python",
   "pygments_lexer": "ipython3",
   "version": "3.9.13"
  }
 },
 "nbformat": 4,
 "nbformat_minor": 2
}
