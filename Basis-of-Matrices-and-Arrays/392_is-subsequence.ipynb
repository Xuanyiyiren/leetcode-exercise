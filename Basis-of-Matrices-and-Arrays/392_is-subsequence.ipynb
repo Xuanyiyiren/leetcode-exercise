{
 "cells": [
  {
   "cell_type": "markdown",
   "metadata": {},
   "source": [
    "# Problem: [392. 判断子序列](https://leetcode.cn/problems/is-subsequence/description/)"
   ]
  },
  {
   "cell_type": "markdown",
   "metadata": {},
   "source": [
    "## 思路1：双指针\n",
    "\n",
    "（来源于leetcode官方题解以及labuladong的题解）\n",
    "\n",
    "判断数组 `s[]` 是不是数组 `t[]` 的子序列，根据定义，即是否能存在一组子标 `j[i]` ，使得`s[i] = t[j[i]]`。\n",
    "\n",
    "子标列需要满足一定的要求：严格单调递增，且涵盖了 `s[]` 下标范围。\n",
    "\n",
    "我们为了寻找（构造）子标列`j[i]`，即先找出元素 `s[0]` 在 `t[]` 中的位置，这就是 `j[0]`。然后再从 `j[0]` 开始往后寻找 `s[1]` 的位置，依次类推......\n",
    "\n",
    "我们考虑用双指针，一个指针`i`遍历 `s[]` 的每个元素，另一个指针`j`寻找元素`s[i]`在列表`t[]` 中的位置。注意指针`j`只能往前走，不可往后。指针`j`只需要正序遍历，找到元素`s[i]`在列表`t[]`中的位置，指针`i`自增，`j`继续往后遍历。\n",
    "\n",
    "如果指针`j` 遍历结束时，指针`i`还没有结束，则说明`s[]`不是`t[]`的子序列。如果`i`遍历到结束了，则显然`s[]`是`t[]`的子序列。所以判断标准是双指针遍历后，指针`i`是否结束。考虑到如果`s[]`的最后一个元素匹配成功的情况下，`i`也会自增1，所以判断条件为 `i == len(s)`。\n",
    "\n",
    "<div align=center><img src=\"fig/is_subseq.gif\" width=\"  \"></div>\n",
    "\n",
    "所以每次`j`都需要自增，而`i`只需要在`j`找到元素`s[i]`的位置时自增。"
   ]
  },
  {
   "cell_type": "code",
   "execution_count": 28,
   "metadata": {},
   "outputs": [],
   "source": [
    "class Solution:\n",
    "    def isSubsequence(self, s: str, t: str) -> bool:\n",
    "        n, m = len(s), len(t)\n",
    "        i = j = 0\n",
    "        while i < n and j < m:\n",
    "            if s[i] == t[j]:\n",
    "                i += 1\n",
    "            j += 1\n",
    "        return i == n"
   ]
  },
  {
   "cell_type": "code",
   "execution_count": 29,
   "metadata": {},
   "outputs": [],
   "source": [
    "test = Solution()"
   ]
  },
  {
   "cell_type": "code",
   "execution_count": 30,
   "metadata": {},
   "outputs": [
    {
     "data": {
      "text/plain": [
       "True"
      ]
     },
     "execution_count": 30,
     "metadata": {},
     "output_type": "execute_result"
    }
   ],
   "source": [
    "s = \"abc\"\n",
    "t = \"ahbgdc\"\n",
    "test.isSubsequence(s,t)"
   ]
  },
  {
   "cell_type": "code",
   "execution_count": 31,
   "metadata": {},
   "outputs": [
    {
     "data": {
      "text/plain": [
       "False"
      ]
     },
     "execution_count": 31,
     "metadata": {},
     "output_type": "execute_result"
    }
   ],
   "source": [
    "s = \"axc\"\n",
    "t = \"ahbgdc\"\n",
    "test.isSubsequence(s,t)"
   ]
  },
  {
   "cell_type": "code",
   "execution_count": 32,
   "metadata": {},
   "outputs": [
    {
     "data": {
      "text/plain": [
       "False"
      ]
     },
     "execution_count": 32,
     "metadata": {},
     "output_type": "execute_result"
    }
   ],
   "source": [
    "s = \"agc\"\n",
    "t = \"abcdefg\"\n",
    "test.isSubsequence(s,t)"
   ]
  },
  {
   "cell_type": "markdown",
   "metadata": {},
   "source": [
    "## 思路2\n",
    "\n",
    "来自GPT的神秘算法，利用迭代器的特性。\n",
    "\n",
    "先考虑一种情况，判断 `s[]` 的元素是否都在 `t[]` 中，这就可以用一行代码简单实现：\n",
    "```python\n",
    "all(c in t for c in s)\n",
    "```\n",
    "但是这不符合我们的要求，这相当于子标列可以回头访问，或者重复访问同一个值。\n",
    "\n",
    "如果我们把 `t` 换成其产生的迭代器 `iter(t)` ，则迭代器本身的特性——元素不会被第二次重复访问，自动满足了我们的要求。\n",
    "\n",
    "注意，我们不能每次都重新生成一个新的迭代器，这就会刷新迭代器的记忆，无法达到我们想要的结果。即下面这种一行代码是错误的：\n",
    "\n",
    "```python\n",
    "all(c in iter(t) for c in s)\n",
    "```"
   ]
  },
  {
   "cell_type": "code",
   "execution_count": 33,
   "metadata": {},
   "outputs": [],
   "source": [
    "class Solution:\n",
    "    def isSubsequence(self, s: str, t: str) -> bool:\n",
    "        iter_t = iter(t)\n",
    "        return all(char in iter_t for char in s)"
   ]
  },
  {
   "cell_type": "code",
   "execution_count": 34,
   "metadata": {},
   "outputs": [],
   "source": [
    "test = Solution()"
   ]
  },
  {
   "cell_type": "code",
   "execution_count": 35,
   "metadata": {},
   "outputs": [
    {
     "data": {
      "text/plain": [
       "True"
      ]
     },
     "execution_count": 35,
     "metadata": {},
     "output_type": "execute_result"
    }
   ],
   "source": [
    "s = \"abc\"\n",
    "t = \"ahbgdc\"\n",
    "test.isSubsequence(s,t)"
   ]
  },
  {
   "cell_type": "code",
   "execution_count": 36,
   "metadata": {},
   "outputs": [
    {
     "data": {
      "text/plain": [
       "False"
      ]
     },
     "execution_count": 36,
     "metadata": {},
     "output_type": "execute_result"
    }
   ],
   "source": [
    "s = \"axc\"\n",
    "t = \"ahbgdc\"\n",
    "test.isSubsequence(s,t)"
   ]
  },
  {
   "cell_type": "code",
   "execution_count": 37,
   "metadata": {},
   "outputs": [
    {
     "data": {
      "text/plain": [
       "False"
      ]
     },
     "execution_count": 37,
     "metadata": {},
     "output_type": "execute_result"
    }
   ],
   "source": [
    "s = \"agc\"\n",
    "t = \"abcdefg\"\n",
    "test.isSubsequence(s,t)"
   ]
  }
 ],
 "metadata": {
  "kernelspec": {
   "display_name": "base",
   "language": "python",
   "name": "python3"
  },
  "language_info": {
   "codemirror_mode": {
    "name": "ipython",
    "version": 3
   },
   "file_extension": ".py",
   "mimetype": "text/x-python",
   "name": "python",
   "nbconvert_exporter": "python",
   "pygments_lexer": "ipython3",
   "version": "3.9.19"
  }
 },
 "nbformat": 4,
 "nbformat_minor": 2
}
