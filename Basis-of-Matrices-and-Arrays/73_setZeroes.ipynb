{
 "cells": [
  {
   "cell_type": "markdown",
   "metadata": {},
   "source": [
    "# Problem: [73. 矩阵置零](https://leetcode.cn/problems/set-matrix-zeroes/description/)"
   ]
  },
  {
   "cell_type": "markdown",
   "metadata": {},
   "source": [
    "## 思路\n",
    "\n",
    "思路很简单，就是遍历数组，然后用set记录有0的行和列，然后只要是这些行列上的就设为0\n",
    "\n",
    "记录完行和列后，之前想过用numpy遍历行和列进行整行整列的置零。本来向着这样快一点，但是在leetcode上允许的结果还不如不用numpy再遍历一遍数组，对每一个元素逐个判断。"
   ]
  },
  {
   "cell_type": "code",
   "execution_count": 5,
   "metadata": {},
   "outputs": [],
   "source": [
    "class Solution(object):\n",
    "    def setZeroes(self, matrix):\n",
    "        \"\"\"\n",
    "        :type matrix: List[List[int]]\n",
    "        :rtype: None Do not return anything, modify matrix in-place instead.\n",
    "        \"\"\"\n",
    "        lx=len(matrix)\n",
    "        ly=len(matrix[0])\n",
    "        zerox,zeroy=set(),set()\n",
    "        for i in range(lx):\n",
    "            for j in range(ly):\n",
    "                if matrix[i][j]==0:\n",
    "                    zerox.add(i)\n",
    "                    zeroy.add(j)\n",
    "        if not zerox:\n",
    "            return\n",
    "        for i in range(lx):\n",
    "            for j in range(ly):\n",
    "                if (i in zerox)or(j in zeroy):\n",
    "                    matrix[i][j]=0"
   ]
  },
  {
   "cell_type": "code",
   "execution_count": 6,
   "metadata": {},
   "outputs": [
    {
     "name": "stdout",
     "output_type": "stream",
     "text": [
      "[[1, 0, 1], [0, 0, 0], [1, 0, 1]]\n",
      "[[0, 0, 0, 0], [0, 4, 5, 0], [0, 3, 1, 0]]\n"
     ]
    }
   ],
   "source": [
    "test = Solution()\n",
    "test1 = [[1,1,1],[1,0,1],[1,1,1]]\n",
    "test.setZeroes(test1)\n",
    "print(test1)\n",
    "\n",
    "test2 = [[0,1,2,0],[3,4,5,2],[1,3,1,5]]\n",
    "test.setZeroes(test2)\n",
    "print(test2)"
   ]
  },
  {
   "cell_type": "code",
   "execution_count": 8,
   "metadata": {},
   "outputs": [
    {
     "name": "stdout",
     "output_type": "stream",
     "text": [
      "第一个测试用例为:\n",
      "[[1 1 1]\n",
      " [1 0 1]\n",
      " [1 1 1]]\n",
      "测试结果为:\n",
      "[[1 0 1]\n",
      " [0 0 0]\n",
      " [1 0 1]]\n",
      "\n",
      "第二个测试用例为:\n",
      "[[0 1 2 0]\n",
      " [3 4 5 2]\n",
      " [1 3 1 5]]\n",
      "测试结果为:\n",
      "[[0 0 0 0]\n",
      " [0 4 5 0]\n",
      " [0 3 1 0]]\n"
     ]
    }
   ],
   "source": [
    "# 明明numpy很好用为什么被leetcode排挤呢？这里为了更形象的展示矩阵，使用numpy渲染测试结果\n",
    "import numpy as np\n",
    "test = Solution()\n",
    "test1 = [[1,1,1],[1,0,1],[1,1,1]]\n",
    "print('第一个测试用例为:')\n",
    "print(np.array(test1))\n",
    "test.setZeroes(test1)\n",
    "print('测试结果为:')\n",
    "print(np.array(test1))\n",
    "\n",
    "print()\n",
    "\n",
    "test2 = [[0,1,2,0],[3,4,5,2],[1,3,1,5]]\n",
    "print('第二个测试用例为:')\n",
    "print(np.array(test2))\n",
    "test.setZeroes(test2)\n",
    "print('测试结果为:')\n",
    "print(np.array(test2))"
   ]
  }
 ],
 "metadata": {
  "kernelspec": {
   "display_name": "base",
   "language": "python",
   "name": "python3"
  },
  "language_info": {
   "codemirror_mode": {
    "name": "ipython",
    "version": 3
   },
   "file_extension": ".py",
   "mimetype": "text/x-python",
   "name": "python",
   "nbconvert_exporter": "python",
   "pygments_lexer": "ipython3",
   "version": "3.9.13"
  }
 },
 "nbformat": 4,
 "nbformat_minor": 2
}
